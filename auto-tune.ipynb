{
 "cells": [
  {
   "cell_type": "code",
   "execution_count": 2,
   "metadata": {},
   "outputs": [
    {
     "name": "stdout",
     "output_type": "stream",
     "text": [
      "Found 4802 images belonging to 75 classes.\n",
      "Found 1164 images belonging to 75 classes.\n",
      "Downloading data from https://storage.googleapis.com/tensorflow/keras-applications/resnet/resnet50v2_weights_tf_dim_ordering_tf_kernels_notop.h5\n",
      "94668760/94668760 [==============================] - 3s 0us/step\n"
     ]
    },
    {
     "name": "stderr",
     "output_type": "stream",
     "text": [
      "/home/guillaume/miniconda3/lib/python3.10/site-packages/PIL/Image.py:996: UserWarning: Palette images with Transparency expressed in bytes should be converted to RGBA images\n",
      "  warnings.warn(\n"
     ]
    },
    {
     "name": "stdout",
     "output_type": "stream",
     "text": [
      "Epoch 1/10\n"
     ]
    },
    {
     "name": "stderr",
     "output_type": "stream",
     "text": [
      "2023-03-27 17:54:02.454176: I tensorflow/core/common_runtime/executor.cc:1197] [/device:CPU:0] (DEBUG INFO) Executor start aborting (this does not indicate an error and you can ignore this message): INVALID_ARGUMENT: You must feed a value for placeholder tensor 'Placeholder/_0' with dtype int32\n",
      "\t [[{{node Placeholder/_0}}]]\n"
     ]
    },
    {
     "name": "stdout",
     "output_type": "stream",
     "text": [
      "151/151 [==============================] - ETA: 0s - loss: 3.3486 - accuracy: 0.2107"
     ]
    },
    {
     "name": "stderr",
     "output_type": "stream",
     "text": [
      "2023-03-27 17:55:22.082411: I tensorflow/core/common_runtime/executor.cc:1197] [/device:CPU:0] (DEBUG INFO) Executor start aborting (this does not indicate an error and you can ignore this message): INVALID_ARGUMENT: You must feed a value for placeholder tensor 'Placeholder/_0' with dtype int32\n",
      "\t [[{{node Placeholder/_0}}]]\n"
     ]
    },
    {
     "name": "stdout",
     "output_type": "stream",
     "text": [
      "151/151 [==============================] - 100s 649ms/step - loss: 3.3486 - accuracy: 0.2107 - val_loss: 2.6029 - val_accuracy: 0.3540\n",
      "Epoch 2/10\n",
      "151/151 [==============================] - 97s 647ms/step - loss: 2.3050 - accuracy: 0.4021 - val_loss: 2.3924 - val_accuracy: 0.3857\n",
      "Epoch 3/10\n",
      "151/151 [==============================] - 96s 634ms/step - loss: 1.8567 - accuracy: 0.5115 - val_loss: 2.1682 - val_accuracy: 0.4296\n",
      "Epoch 4/10\n",
      "151/151 [==============================] - 96s 635ms/step - loss: 1.6112 - accuracy: 0.5581 - val_loss: 2.1068 - val_accuracy: 0.4553\n",
      "Epoch 5/10\n",
      "151/151 [==============================] - 98s 647ms/step - loss: 1.3768 - accuracy: 0.6147 - val_loss: 2.1117 - val_accuracy: 0.4725\n",
      "Epoch 6/10\n",
      "151/151 [==============================] - 108s 719ms/step - loss: 1.2145 - accuracy: 0.6564 - val_loss: 2.1751 - val_accuracy: 0.4622\n",
      "Epoch 7/10\n",
      "151/151 [==============================] - 108s 715ms/step - loss: 1.0804 - accuracy: 0.6858 - val_loss: 2.1454 - val_accuracy: 0.4751\n",
      "Epoch 8/10\n",
      "151/151 [==============================] - 406s 3s/step - loss: 0.9229 - accuracy: 0.7309 - val_loss: 2.1700 - val_accuracy: 0.4613\n",
      "Epoch 9/10\n",
      "151/151 [==============================] - 411s 3s/step - loss: 0.8592 - accuracy: 0.7389 - val_loss: 2.4363 - val_accuracy: 0.4579\n",
      "Epoch 10/10\n",
      "151/151 [==============================] - 624s 4s/step - loss: 0.7398 - accuracy: 0.7865 - val_loss: 2.2318 - val_accuracy: 0.4639\n"
     ]
    }
   ],
   "source": [
    "import tensorflow as tf\n",
    "from tensorflow.keras.preprocessing.image import ImageDataGenerator\n",
    "\n",
    "# Define image data generator with data augmentation\n",
    "train_datagen = ImageDataGenerator(\n",
    "    rescale=1./255, # Normalize pixel values\n",
    "    rotation_range=20, # Randomly rotate images\n",
    "    width_shift_range=0.2, # Randomly shift images horizontally\n",
    "    height_shift_range=0.2, # Randomly shift images vertically\n",
    "    shear_range=0.2, # Randomly shear images\n",
    "    zoom_range=0.2, # Randomly zoom in on images\n",
    "    horizontal_flip=True, # Randomly flip images horizontally\n",
    "    validation_split=0.2 # Split data into train/validation sets\n",
    ")\n",
    "\n",
    "# Set image size and batch size\n",
    "img_size = (224, 224) # Set image size to 224x224 pixels\n",
    "batch_size = 32 # Set batch size to 32 images per batch\n",
    "\n",
    "# Load images from folders and split into train/validation sets\n",
    "train_data = train_datagen.flow_from_directory(\n",
    "    'simple_images',\n",
    "    target_size=img_size,\n",
    "    batch_size=batch_size,\n",
    "    class_mode='categorical',\n",
    "    subset='training' # Use subset parameter to get train set\n",
    ")\n",
    "\n",
    "val_data = train_datagen.flow_from_directory(\n",
    "    'simple_images',\n",
    "    target_size=img_size,\n",
    "    batch_size=batch_size,\n",
    "    class_mode='categorical',\n",
    "    subset='validation' # Use subset parameter to get validation set\n",
    ")\n",
    "\n",
    "# Build model using transfer learning with pre-trained ResNet50V2 model\n",
    "base_model = tf.keras.applications.ResNet50V2(\n",
    "    include_top=False, # Remove top layer from pre-trained model\n",
    "    input_shape=(224, 224, 3), # Set input shape to match image size\n",
    "    weights='imagenet' # Use pre-trained ImageNet weights\n",
    ")\n",
    "\n",
    "# Freeze all layers in base model to prevent retraining\n",
    "for layer in base_model.layers:\n",
    "    layer.trainable = False\n",
    "\n",
    "# Add new top layer for classification\n",
    "x = base_model.output\n",
    "x = tf.keras.layers.GlobalAveragePooling2D()(x)\n",
    "x = tf.keras.layers.Dense(512, activation='relu')(x)\n",
    "predictions = tf.keras.layers.Dense(train_data.num_classes, activation='softmax')(x)\n",
    "\n",
    "# Build final model\n",
    "model = tf.keras.models.Model(inputs=base_model.input, outputs=predictions)\n",
    "\n",
    "# Compile model with categorical cross-entropy loss and Adam optimizer\n",
    "model.compile(loss='categorical_crossentropy', optimizer='adam', metrics=['accuracy'])\n",
    "\n",
    "# Train model on training data and validate on validation data\n",
    "history = model.fit(train_data, epochs=10, validation_data=val_data)\n",
    "\n",
    "# Evaluate model on test data (optional)\n",
    "# test_data = train_datagen.flow_from_directory(\n",
    "#     'test_images',\n",
    "#     target_size=img_size,\n",
    "#     batch_size=batch_size,\n",
    "#     class_mode='categorical'\n",
    "# )\n",
    "\n",
    "# test_loss, test_acc = model.evaluate(test_data)\n",
    "# print('Test accuracy:', test_acc)\n"
   ]
  },
  {
   "cell_type": "code",
   "execution_count": 4,
   "metadata": {},
   "outputs": [
    {
     "name": "stdout",
     "output_type": "stream",
     "text": [
      "1/1 [==============================] - 0s 20ms/step\n",
      "predictions:  [[0. 0. 0. 0. 0. 0. 0. 0. 0. 0. 0. 0. 0. 1. 0. 0. 0. 0. 0. 0. 0. 0. 0. 0.\n",
      "  0. 0. 0. 0. 0. 0. 0. 0. 0. 0. 0. 0. 0. 0. 0. 0. 0. 0. 0. 0. 0. 0. 0. 0.\n",
      "  0. 0. 0. 0. 0. 0. 0. 0. 0. 0. 0. 0. 0. 0. 0. 0. 0. 0. 0. 0. 0. 0. 0. 0.\n",
      "  0. 0. 0.]]\n",
      "This image most likely belongs to {} with a {:.2f} percent confidence. 13 3.543199598789215\n"
     ]
    }
   ],
   "source": [
    "from tensorflow import keras\n",
    "import numpy as np\n",
    "img = tf.keras.preprocessing.image.load_img(\n",
    "    'test_images/z1910141107270.jpg', target_size=(224, 224)\n",
    ")\n",
    "img_array = tf.keras.preprocessing.image.img_to_array(img)\n",
    "img_array = tf.expand_dims(img_array, 0) # Create a batch\n",
    "\n",
    "predictions = model.predict(img_array)\n",
    "score = tf.nn.softmax(predictions[0])\n",
    "\n",
    "print(\"predictions: \", predictions)\n",
    "\n",
    "print(\n",
    "    \"This image most likely belongs to {} with a {:.2f} percent confidence.\".format(dataset.class_names[np.argmax(score)], np.max(score))\n",
    ")\n"
   ]
  }
 ],
 "metadata": {
  "kernelspec": {
   "display_name": "base",
   "language": "python",
   "name": "python3"
  },
  "language_info": {
   "codemirror_mode": {
    "name": "ipython",
    "version": 3
   },
   "file_extension": ".py",
   "mimetype": "text/x-python",
   "name": "python",
   "nbconvert_exporter": "python",
   "pygments_lexer": "ipython3",
   "version": "3.10.9"
  },
  "orig_nbformat": 4
 },
 "nbformat": 4,
 "nbformat_minor": 2
}
