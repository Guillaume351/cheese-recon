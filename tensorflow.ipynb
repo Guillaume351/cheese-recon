{
 "cells": [
  {
   "cell_type": "code",
   "execution_count": 1,
   "metadata": {},
   "outputs": [
    {
     "name": "stderr",
     "output_type": "stream",
     "text": [
      "2023-03-27 12:06:54.691525: I tensorflow/core/platform/cpu_feature_guard.cc:182] This TensorFlow binary is optimized to use available CPU instructions in performance-critical operations.\n",
      "To enable the following instructions: AVX2 FMA, in other operations, rebuild TensorFlow with the appropriate compiler flags.\n",
      "2023-03-27 12:06:55.173956: W tensorflow/compiler/tf2tensorrt/utils/py_utils.cc:38] TF-TRT Warning: Could not find TensorRT\n"
     ]
    },
    {
     "name": "stdout",
     "output_type": "stream",
     "text": [
      "Num GPUs Available:  1\n"
     ]
    },
    {
     "name": "stderr",
     "output_type": "stream",
     "text": [
      "2023-03-27 12:06:55.755490: I tensorflow/compiler/xla/stream_executor/cuda/cuda_gpu_executor.cc:982] could not open file to read NUMA node: /sys/bus/pci/devices/0000:0b:00.0/numa_node\n",
      "Your kernel may have been built without NUMA support.\n",
      "2023-03-27 12:06:55.764991: I tensorflow/compiler/xla/stream_executor/cuda/cuda_gpu_executor.cc:982] could not open file to read NUMA node: /sys/bus/pci/devices/0000:0b:00.0/numa_node\n",
      "Your kernel may have been built without NUMA support.\n",
      "2023-03-27 12:06:55.765277: I tensorflow/compiler/xla/stream_executor/cuda/cuda_gpu_executor.cc:982] could not open file to read NUMA node: /sys/bus/pci/devices/0000:0b:00.0/numa_node\n",
      "Your kernel may have been built without NUMA support.\n"
     ]
    }
   ],
   "source": [
    "import tensorflow as tf\n",
    "print(\"Num GPUs Available: \", len(tf.config.list_physical_devices('GPU')))"
   ]
  },
  {
   "cell_type": "code",
   "execution_count": 2,
   "metadata": {},
   "outputs": [
    {
     "name": "stderr",
     "output_type": "stream",
     "text": [
      "2023-03-27 12:06:58.863657: I tensorflow/compiler/xla/stream_executor/cuda/cuda_gpu_executor.cc:982] could not open file to read NUMA node: /sys/bus/pci/devices/0000:0b:00.0/numa_node\n",
      "Your kernel may have been built without NUMA support.\n",
      "2023-03-27 12:06:58.864085: I tensorflow/compiler/xla/stream_executor/cuda/cuda_gpu_executor.cc:982] could not open file to read NUMA node: /sys/bus/pci/devices/0000:0b:00.0/numa_node\n",
      "Your kernel may have been built without NUMA support.\n",
      "2023-03-27 12:06:58.864611: I tensorflow/compiler/xla/stream_executor/cuda/cuda_gpu_executor.cc:982] could not open file to read NUMA node: /sys/bus/pci/devices/0000:0b:00.0/numa_node\n",
      "Your kernel may have been built without NUMA support.\n",
      "2023-03-27 12:07:00.688400: I tensorflow/compiler/xla/stream_executor/cuda/cuda_gpu_executor.cc:982] could not open file to read NUMA node: /sys/bus/pci/devices/0000:0b:00.0/numa_node\n",
      "Your kernel may have been built without NUMA support.\n",
      "2023-03-27 12:07:00.690000: I tensorflow/compiler/xla/stream_executor/cuda/cuda_gpu_executor.cc:982] could not open file to read NUMA node: /sys/bus/pci/devices/0000:0b:00.0/numa_node\n",
      "Your kernel may have been built without NUMA support.\n",
      "2023-03-27 12:07:00.690012: I tensorflow/core/common_runtime/gpu/gpu_device.cc:1722] Could not identify NUMA node of platform GPU id 0, defaulting to 0.  Your kernel may not have been built with NUMA support.\n",
      "2023-03-27 12:07:00.690324: I tensorflow/compiler/xla/stream_executor/cuda/cuda_gpu_executor.cc:982] could not open file to read NUMA node: /sys/bus/pci/devices/0000:0b:00.0/numa_node\n",
      "Your kernel may have been built without NUMA support.\n",
      "2023-03-27 12:07:00.691624: I tensorflow/core/common_runtime/gpu/gpu_device.cc:1635] Created device /job:localhost/replica:0/task:0/device:GPU:0 with 21568 MB memory:  -> device: 0, name: NVIDIA GeForce RTX 3090, pci bus id: 0000:0b:00.0, compute capability: 8.6\n"
     ]
    },
    {
     "name": "stdout",
     "output_type": "stream",
     "text": [
      "Num GPUs Available:  1\n",
      "Found 800 files belonging to 8 classes.\n",
      "Using 640 files for training.\n",
      "Found 800 files belonging to 8 classes.\n",
      "Using 160 files for validation.\n",
      "Epoch 1/10\n"
     ]
    },
    {
     "name": "stderr",
     "output_type": "stream",
     "text": [
      "2023-03-27 12:07:14.182087: I tensorflow/core/common_runtime/executor.cc:1197] [/device:CPU:0] (DEBUG INFO) Executor start aborting (this does not indicate an error and you can ignore this message): INVALID_ARGUMENT: You must feed a value for placeholder tensor 'Placeholder/_4' with dtype int32 and shape [640]\n",
      "\t [[{{node Placeholder/_4}}]]\n",
      "2023-03-27 12:07:14.182309: I tensorflow/core/common_runtime/executor.cc:1197] [/device:CPU:0] (DEBUG INFO) Executor start aborting (this does not indicate an error and you can ignore this message): INVALID_ARGUMENT: You must feed a value for placeholder tensor 'Placeholder/_0' with dtype string and shape [640]\n",
      "\t [[{{node Placeholder/_0}}]]\n",
      "2023-03-27 12:07:14.826063: W tensorflow/tsl/framework/cpu_allocator_impl.cc:83] Allocation of 17280000 exceeds 10% of free system memory.\n",
      "2023-03-27 12:07:14.973726: W tensorflow/tsl/framework/cpu_allocator_impl.cc:83] Allocation of 17280000 exceeds 10% of free system memory.\n",
      "2023-03-27 12:07:15.004848: W tensorflow/tsl/framework/cpu_allocator_impl.cc:83] Allocation of 41877756 exceeds 10% of free system memory.\n",
      "2023-03-27 12:07:15.062264: W tensorflow/tsl/framework/cpu_allocator_impl.cc:83] Allocation of 30758400 exceeds 10% of free system memory.\n",
      "2023-03-27 12:07:15.290040: W tensorflow/tsl/framework/cpu_allocator_impl.cc:83] Allocation of 48881325 exceeds 10% of free system memory.\n",
      "2023-03-27 12:07:22.012190: I tensorflow/compiler/xla/stream_executor/cuda/cuda_dnn.cc:424] Loaded cuDNN version 8800\n",
      "2023-03-27 12:07:29.509233: I tensorflow/compiler/xla/stream_executor/cuda/cuda_blas.cc:637] TensorFloat-32 will be used for the matrix multiplication. This will only be logged once.\n",
      "2023-03-27 12:07:29.755841: I tensorflow/compiler/xla/service/service.cc:169] XLA service 0x33fcc7c0 initialized for platform CUDA (this does not guarantee that XLA will be used). Devices:\n",
      "2023-03-27 12:07:29.755882: I tensorflow/compiler/xla/service/service.cc:177]   StreamExecutor device (0): NVIDIA GeForce RTX 3090, Compute Capability 8.6\n",
      "2023-03-27 12:07:29.887171: I tensorflow/compiler/mlir/tensorflow/utils/dump_mlir_util.cc:269] disabling MLIR crash reproducer, set env var `MLIR_CRASH_REPRODUCER_DIRECTORY` to enable.\n",
      "2023-03-27 12:07:30.843678: I ./tensorflow/compiler/jit/device_compiler.h:180] Compiled cluster using XLA!  This line is logged at most once for the lifetime of the process.\n"
     ]
    },
    {
     "name": "stdout",
     "output_type": "stream",
     "text": [
      "39/40 [============================>.] - ETA: 0s - loss: 1009.6825 - accuracy: 0.2019"
     ]
    },
    {
     "name": "stderr",
     "output_type": "stream",
     "text": [
      "2023-03-27 12:07:39.295617: I tensorflow/core/common_runtime/executor.cc:1197] [/device:CPU:0] (DEBUG INFO) Executor start aborting (this does not indicate an error and you can ignore this message): INVALID_ARGUMENT: You must feed a value for placeholder tensor 'Placeholder/_4' with dtype int32 and shape [160]\n",
      "\t [[{{node Placeholder/_4}}]]\n",
      "2023-03-27 12:07:39.295843: I tensorflow/core/common_runtime/executor.cc:1197] [/device:CPU:0] (DEBUG INFO) Executor start aborting (this does not indicate an error and you can ignore this message): INVALID_ARGUMENT: You must feed a value for placeholder tensor 'Placeholder/_0' with dtype string and shape [160]\n",
      "\t [[{{node Placeholder/_0}}]]\n"
     ]
    },
    {
     "name": "stdout",
     "output_type": "stream",
     "text": [
      "40/40 [==============================] - 27s 149ms/step - loss: 984.4958 - accuracy: 0.2031 - val_loss: 2.9026 - val_accuracy: 0.2313\n",
      "Epoch 2/10\n",
      "40/40 [==============================] - 4s 102ms/step - loss: 1.6934 - accuracy: 0.4328 - val_loss: 3.0565 - val_accuracy: 0.2562\n",
      "Epoch 3/10\n",
      "40/40 [==============================] - 4s 107ms/step - loss: 1.0216 - accuracy: 0.6438 - val_loss: 3.6728 - val_accuracy: 0.3063\n",
      "Epoch 4/10\n",
      "40/40 [==============================] - 4s 87ms/step - loss: 0.6655 - accuracy: 0.7969 - val_loss: 4.3406 - val_accuracy: 0.3125\n",
      "Epoch 5/10\n",
      "40/40 [==============================] - 2s 60ms/step - loss: 0.7086 - accuracy: 0.8125 - val_loss: 5.0508 - val_accuracy: 0.3187\n",
      "Epoch 6/10\n",
      "40/40 [==============================] - 3s 61ms/step - loss: 0.5513 - accuracy: 0.8313 - val_loss: 6.7963 - val_accuracy: 0.3063\n",
      "Epoch 7/10\n",
      "40/40 [==============================] - 2s 49ms/step - loss: 0.3595 - accuracy: 0.8906 - val_loss: 7.4745 - val_accuracy: 0.3313\n",
      "Epoch 8/10\n",
      "40/40 [==============================] - 3s 60ms/step - loss: 0.3384 - accuracy: 0.9016 - val_loss: 5.7164 - val_accuracy: 0.3187\n",
      "Epoch 9/10\n",
      "40/40 [==============================] - 2s 57ms/step - loss: 0.2748 - accuracy: 0.9234 - val_loss: 10.3316 - val_accuracy: 0.3438\n",
      "Epoch 10/10\n",
      "40/40 [==============================] - 2s 49ms/step - loss: 0.3485 - accuracy: 0.9141 - val_loss: 10.6305 - val_accuracy: 0.3688\n"
     ]
    }
   ],
   "source": [
    "import os\n",
    "import tensorflow as tf\n",
    "from tensorflow import keras\n",
    "from tensorflow.keras import layers, models\n",
    "from tensorflow.keras.preprocessing import image_dataset_from_directory\n",
    "\n",
    "with tf.device('/device:GPU:0'):\n",
    "    print(\"Num GPUs Available: \", len(tf.config.list_physical_devices('GPU')))\n",
    "\n",
    "data_dir = 'simple_images'\n",
    "\n",
    "# Apply transformations to augment the dataset and convert it to a tensor\n",
    "data_augmentation = keras.Sequential(\n",
    "    [\n",
    "        layers.experimental.preprocessing.Resizing(256, 256),\n",
    "        layers.experimental.preprocessing.RandomCrop(224, 224),\n",
    "        layers.experimental.preprocessing.RandomFlip(\"horizontal\"),\n",
    "        layers.experimental.preprocessing.RandomRotation(0.1),\n",
    "        layers.experimental.preprocessing.Rescaling(1./255),\n",
    "    ]\n",
    ")\n",
    "\n",
    "# Load the dataset\n",
    "dataset = image_dataset_from_directory(\n",
    "    data_dir,\n",
    "    batch_size=16,\n",
    "    image_size=(224, 224),\n",
    "    validation_split=0.2,\n",
    "    subset='training',\n",
    "    seed=123,\n",
    "    label_mode='categorical'\n",
    ")\n",
    "\n",
    "# Split the dataset into training and validation sets\n",
    "val_dataset = image_dataset_from_directory(\n",
    "    data_dir,\n",
    "    batch_size=16,\n",
    "    image_size=(224, 224),\n",
    "    validation_split=0.2,\n",
    "    subset='validation',\n",
    "    seed=123,\n",
    "    label_mode='categorical'\n",
    ")\n",
    "\n",
    "# Create DataLoaders for training and validation\n",
    "train_loader = dataset.prefetch(buffer_size=tf.data.AUTOTUNE)\n",
    "val_loader = val_dataset.prefetch(buffer_size=tf.data.AUTOTUNE)\n",
    "\n",
    "# Get the number of classes\n",
    "num_classes = len(dataset.class_names)\n",
    "\n",
    "# Define the model architecture\n",
    "model = models.Sequential([\n",
    "    layers.Conv2D(32, (3, 3), padding='same', activation='relu', input_shape=(224, 224, 3)),\n",
    "    layers.MaxPooling2D((2, 2)),\n",
    "    layers.Conv2D(64, (3, 3), padding='same', activation='relu'),\n",
    "    layers.MaxPooling2D((2, 2)),\n",
    "    layers.Flatten(),\n",
    "    layers.Dense(512, activation='relu'),\n",
    "    layers.Dense(num_classes)\n",
    "])\n",
    "\n",
    "# Compile the model\n",
    "model.compile(optimizer='adam',\n",
    "              loss=tf.keras.losses.CategoricalCrossentropy(from_logits=True),\n",
    "              metrics=['accuracy'])\n",
    "\n",
    "# Train the model\n",
    "history = model.fit(train_loader,\n",
    "                    validation_data=val_loader,\n",
    "                    epochs=10)\n"
   ]
  }
 ],
 "metadata": {
  "kernelspec": {
   "display_name": "base",
   "language": "python",
   "name": "python3"
  },
  "language_info": {
   "codemirror_mode": {
    "name": "ipython",
    "version": 3
   },
   "file_extension": ".py",
   "mimetype": "text/x-python",
   "name": "python",
   "nbconvert_exporter": "python",
   "pygments_lexer": "ipython3",
   "version": "3.10.9"
  },
  "orig_nbformat": 4
 },
 "nbformat": 4,
 "nbformat_minor": 2
}
