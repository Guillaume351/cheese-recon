{
 "cells": [
  {
   "cell_type": "code",
   "execution_count": null,
   "metadata": {},
   "outputs": [],
   "source": [
    "import tensorflow as tf\n",
    "print(\"Num GPUs Available: \", len(tf.config.list_physical_devices('GPU')))"
   ]
  },
  {
   "cell_type": "code",
   "execution_count": null,
   "metadata": {},
   "outputs": [],
   "source": [
    "import os\n",
    "import tensorflow as tf\n",
    "from tensorflow import keras\n",
    "from tensorflow.keras import layers, models\n",
    "from tensorflow.keras.preprocessing import image_dataset_from_directory\n",
    "\n",
    "with tf.device('/device:GPU:0'):\n",
    "    print(\"Num GPUs Available: \", len(tf.config.list_physical_devices('GPU')))\n",
    "\n",
    "data_dir = 'simple_images'\n",
    "\n",
    "# Apply transformations to augment the dataset and convert it to a tensor\n",
    "data_augmentation = keras.Sequential(\n",
    "    [\n",
    "        layers.experimental.preprocessing.Resizing(256, 256),\n",
    "        layers.experimental.preprocessing.RandomCrop(224, 224),\n",
    "        layers.experimental.preprocessing.RandomFlip(\"horizontal\"),\n",
    "        layers.experimental.preprocessing.RandomRotation(0.1),\n",
    "        layers.experimental.preprocessing.Rescaling(1./255),\n",
    "        layers.experimental.preprocessing.RandomContrast(0.1),\n",
    "    ]\n",
    ")\n",
    "\n",
    "# Load the dataset\n",
    "dataset = image_dataset_from_directory(\n",
    "    data_dir,\n",
    "    batch_size=16,\n",
    "    image_size=(224, 224),\n",
    "    validation_split=0.2,\n",
    "    subset='training',\n",
    "    seed=123,\n",
    "    label_mode='categorical'\n",
    ")\n",
    "\n",
    "# Split the dataset into training and validation sets\n",
    "val_dataset = image_dataset_from_directory(\n",
    "    data_dir,\n",
    "    batch_size=16,\n",
    "    image_size=(224, 224),\n",
    "    validation_split=0.2,\n",
    "    subset='validation',\n",
    "    seed=123,\n",
    "    label_mode='categorical'\n",
    ")\n",
    "\n",
    "# Create DataLoaders for training and validation\n",
    "train_loader = dataset.prefetch(buffer_size=tf.data.AUTOTUNE)\n",
    "val_loader = val_dataset.prefetch(buffer_size=tf.data.AUTOTUNE)\n",
    "\n",
    "# Get the number of classes\n",
    "num_classes = len(dataset.class_names)\n",
    "\n",
    "# Define the model architecture\n",
    "model = models.Sequential([\n",
    "    layers.Conv2D(32, (3, 3), padding='same', activation='relu', input_shape=(224, 224, 3)),\n",
    "    layers.MaxPooling2D((2, 2)),\n",
    "    layers.Conv2D(64, (3, 3), padding='same', activation='relu'),\n",
    "    layers.MaxPooling2D((2, 2)),\n",
    "    layers.Flatten(),\n",
    "    layers.Dense(512, activation='relu'),\n",
    "    layers.Dense(num_classes)\n",
    "])\n",
    "\n",
    "# Compile the model\n",
    "model.compile(optimizer='adam',\n",
    "              loss=tf.keras.losses.CategoricalCrossentropy(from_logits=True),\n",
    "              metrics=['accuracy'])\n",
    "\n",
    "# Train the model\n",
    "history = model.fit(train_loader,\n",
    "                    validation_data=val_loader,\n",
    "                    epochs=10)\n"
   ]
  },
  {
   "cell_type": "code",
   "execution_count": null,
   "metadata": {},
   "outputs": [],
   "source": [
    "from pathlib import Path\n",
    "import imghdr\n",
    "\n",
    "data_dir = \"simple_images\"\n",
    "image_extensions = [\".png\", \".jpg\", \".jpeg\"]  # add there all your images file extensions\n",
    "remove_count = 0\n",
    "img_type_accepted_by_tf = [\"bmp\", \"gif\", \"jpeg\", \"png\"]\n",
    "for filepath in Path(data_dir).rglob(\"*\"):\n",
    "    if filepath.suffix.lower() in image_extensions:\n",
    "        img_type = imghdr.what(filepath)\n",
    "        if img_type is None:\n",
    "            print(f\"{filepath} is not an image\")\n",
    "            os.remove(filepath)\n",
    "            remove_count += 1\n",
    "        elif img_type not in img_type_accepted_by_tf:\n",
    "            print(f\"{filepath} is a {img_type}, not accepted by TensorFlow\")\n",
    "            os.remove(filepath)\n",
    "            remove_count += 1\n",
    "\n",
    "\n",
    "print (f\"Removed {remove_count} files\")"
   ]
  },
  {
   "cell_type": "code",
   "execution_count": null,
   "metadata": {},
   "outputs": [],
   "source": [
    "import os\n",
    "import cv2\n",
    "def check_images( s_dir, ext_list):\n",
    "    bad_images=[]\n",
    "    bad_ext=[]\n",
    "    s_list= os.listdir(s_dir)\n",
    "    for klass in s_list:\n",
    "        klass_path=os.path.join (s_dir, klass)\n",
    "        print ('processing class directory ', klass)\n",
    "        if os.path.isdir(klass_path):\n",
    "            file_list=os.listdir(klass_path)\n",
    "            for f in file_list:               \n",
    "                f_path=os.path.join (klass_path,f)\n",
    "                index=f.rfind('.')\n",
    "                ext=f[index+1:].lower()\n",
    "                if ext not in ext_list:\n",
    "                    print('file ', f_path, ' has an invalid extension ', ext)\n",
    "                    bad_ext.append(f_path)\n",
    "                if os.path.isfile(f_path):\n",
    "                    try:\n",
    "                        img=cv2.imread(f_path)\n",
    "                        shape=img.shape\n",
    "                    except:\n",
    "                        print('file ', f_path, ' is not a valid image file')\n",
    "                        bad_images.append(f_path)\n",
    "                else:\n",
    "                    print('*** fatal error, you a sub directory ', f, ' in class directory ', klass)\n",
    "        else:\n",
    "            print ('*** WARNING*** you have files in ', s_dir, ' it should only contain sub directories')\n",
    "    return bad_images, bad_ext\n",
    "\n",
    "source_dir ='simple_images'\n",
    "good_exts=['jpg', 'png', 'jpeg', 'gif', 'bmp' ] # list of acceptable extensions\n",
    "bad_file_list, bad_ext_list=check_images(source_dir, good_exts)\n",
    "if len(bad_file_list) !=0:\n",
    "    print('improper image files are listed below')\n",
    "    for i in range (len(bad_file_list)):\n",
    "        print (bad_file_list[i])\n",
    "        print('deleting file ', bad_file_list[i])\n",
    "        os.remove(bad_file_list[i])\n",
    "else:\n",
    "    print(' no improper image files were found')"
   ]
  },
  {
   "cell_type": "code",
   "execution_count": 4,
   "metadata": {},
   "outputs": [
    {
     "name": "stdout",
     "output_type": "stream",
     "text": [
      "Removing beaufort_47.jpeg...\n",
      "Removing beaufort_100.jpeg...\n",
      "Removing beaufort_14.jpeg...\n",
      "Removing beaufort_6.jpeg...\n",
      "Removing beaufort_60.jpeg...\n",
      "Removing banon_fromage_3.jpg...\n",
      "Removing banon_fromage_83.jpg...\n",
      "Removing banon_fromage_100.jpg...\n",
      "Removing banon_fromage_1.jpg...\n",
      "Removing banon_fromage_99.jpg...\n",
      "Removing banon_fromage_2.jpg...\n",
      "Removing banon_fromage_98.jpg...\n",
      "Removing comte_fromage_75.jpg...\n",
      "Removing comte_fromage_88.jpg...\n",
      "Removing comte_fromage_2.jpg...\n",
      "Removing comte_fromage_1.jpg...\n",
      "Removing comte_fromage_62.jpg...\n",
      "Removing comte_fromage_3.jpg...\n",
      "Removing comte_fromage_24.jpg...\n",
      "Removing bethmale_20.jpeg...\n",
      "Removing fourme-de-montbrison_fromage_86.jpg...\n",
      "Removing fourme-de-montbrison_fromage_1.jpg...\n",
      "Removing fourme-de-montbrison_fromage_94.jpg...\n",
      "Removing fourme-de-montbrison_fromage_3.jpg...\n",
      "Removing fourme-de-montbrison_fromage_2.jpg...\n",
      "Removing fourme-de-montbrison_fromage_95.jpg...\n",
      "Removing fourme-de-montbrison_fromage_96.jpg...\n",
      "Removing pyramide_fromage_3.jpg...\n",
      "Removing pyramide_fromage_91.jpg...\n",
      "Removing pyramide_fromage_2.jpg...\n",
      "Removing pyramide_fromage_92.jpg...\n",
      "Removing pyramide_fromage_1.jpg...\n",
      "Removing pyramide_fromage_93.jpg...\n",
      "Removing maconnais_fromage_76.jpg...\n",
      "Removing maconnais_fromage_38.jpg...\n",
      "Removing maconnais_fromage_82.jpg...\n",
      "Removing maconnais_fromage_51.jpg...\n",
      "Removing maconnais_fromage_95.jpg...\n",
      "Removing maconnais_fromage_3.jpg...\n",
      "Removing maconnais_fromage_2.jpg...\n",
      "Removing maconnais_fromage_14.jpg...\n",
      "Removing maconnais_fromage_1.jpg...\n",
      "Removing maconnais_fromage_83.jpg...\n",
      "Removing maconnais_fromage_84.jpg...\n",
      "Removing maconnais_fromage_54.jpg...\n",
      "Removing valençay_fromage_3.jpg...\n",
      "Removing valençay_fromage_96.jpg...\n",
      "Removing valençay_fromage_2.jpg...\n",
      "Removing valençay_fromage_1.jpg...\n",
      "Removing valençay_fromage_97.jpg...\n",
      "Removing valençay_fromage_98.jpg...\n",
      "Removing taleggio_fromage_86.jpg...\n",
      "Removing taleggio_fromage_1.jpg...\n",
      "Removing taleggio_fromage_87.jpg...\n",
      "Removing taleggio_fromage_88.jpg...\n",
      "Removing taleggio_fromage_2.jpg...\n",
      "Removing taleggio_fromage_3.jpg...\n",
      "Removing abondance_fromage_1.jpg...\n",
      "Removing abondance_fromage_3.jpg...\n",
      "Removing abondance_fromage_2.jpg...\n",
      "Removing tomme-de-savoie_fromage_3.jpg...\n",
      "Removing tomme-de-savoie_fromage_100.jpg...\n",
      "Removing tomme-de-savoie_fromage_1.jpg...\n",
      "Removing tomme-de-savoie_fromage_2.jpg...\n",
      "Removing picodon_fromage_3.jpg...\n",
      "Removing picodon_fromage_1.jpg...\n",
      "Removing picodon_fromage_2.jpg...\n",
      "Removing picodon_fromage_43.jpg...\n",
      "Removing saint-paulin_fromage_90.jpg...\n",
      "Removing saint-paulin_fromage_91.jpg...\n",
      "Removing saint-paulin_fromage_80.jpg...\n",
      "Removing saint-paulin_fromage_2.jpg...\n",
      "Removing saint-paulin_fromage_92.jpg...\n",
      "Removing saint-paulin_fromage_1.jpg...\n",
      "Removing saint-paulin_fromage_3.jpg...\n",
      "Removing saint-paulin_fromage_17.jpg...\n",
      "Removing neufchatel_fromage_21.jpg...\n",
      "Removing neufchatel_fromage_2.jpg...\n",
      "Removing neufchatel_fromage_3.jpg...\n",
      "Removing neufchatel_fromage_1.jpg...\n",
      "Removing trappe-d'echourgnac_fromage_3.jpg...\n",
      "Removing trappe-d'echourgnac_fromage_1.jpg...\n",
      "Removing trappe-d'echourgnac_fromage_2.jpg...\n",
      "Removing trappe-d'echourgnac_fromage_100.jpg...\n",
      "Removing fourme-d'ambert_fromage_1.jpg...\n",
      "Removing fourme-d'ambert_fromage_3.jpg...\n",
      "Removing fourme-d'ambert_fromage_2.jpg...\n",
      "Removing mimolette_fromage_1.jpg...\n",
      "Removing mimolette_fromage_11.jpg...\n",
      "Removing mimolette_fromage_2.jpg...\n",
      "Removing mimolette_fromage_3.jpg...\n",
      "Removing mimolette_fromage_56.jpg...\n",
      "Removing mimolette_fromage_97.jpg...\n",
      "Removing mimolette_fromage_98.jpg...\n",
      "Removing mimolette_fromage_96.jpg...\n",
      "Removing epoisses_fromage_96.jpg...\n",
      "Removing epoisses_fromage_1.jpg...\n",
      "Removing epoisses_fromage_95.jpg...\n",
      "Removing epoisses_fromage_97.jpg...\n",
      "Removing epoisses_fromage_2.jpg...\n",
      "Removing epoisses_fromage_3.jpg...\n",
      "Removing epoisses_fromage_75.jpg...\n",
      "Removing emmental_fromage_100.jpg...\n",
      "Removing emmental_fromage_2.jpg...\n",
      "Removing emmental_fromage_3.jpg...\n",
      "Removing emmental_fromage_34.jpg...\n",
      "Removing emmental_fromage_1.jpg...\n",
      "Removing emmental_fromage_99.jpg...\n",
      "Removing fol-epi_fromage_60.jpg...\n",
      "Removing fol-epi_fromage_88.jpg...\n",
      "Removing fol-epi_fromage_79.jpg...\n",
      "Removing fol-epi_fromage_95.jpg...\n",
      "Removing fol-epi_fromage_2.jpg...\n",
      "Removing fol-epi_fromage_81.jpg...\n",
      "Removing fol-epi_fromage_3.jpg...\n",
      "Removing fol-epi_fromage_10.jpg...\n",
      "Removing fol-epi_fromage_80.jpg...\n",
      "Removing fol-epi_fromage_17.jpg...\n",
      "Removing fol-epi_fromage_1.jpg...\n",
      "Removing chaource_fromage_93.jpg...\n",
      "Removing chaource_fromage_92.jpg...\n",
      "Removing chaource_fromage_1.jpg...\n",
      "Removing chaource_fromage_46.jpg...\n",
      "Removing chaource_fromage_2.jpg...\n",
      "Removing chaource_fromage_91.jpg...\n",
      "Removing chaource_fromage_3.jpg...\n",
      "Removing bleu-des-causses_fromage_92.jpg...\n",
      "Removing bleu-des-causses_fromage_90.jpg...\n",
      "Removing bleu-des-causses_fromage_43.jpg...\n",
      "Removing bleu-des-causses_fromage_3.jpg...\n",
      "Removing bleu-des-causses_fromage_91.jpg...\n",
      "Removing bleu-des-causses_fromage_2.jpg...\n",
      "Removing bleu-des-causses_fromage_60.jpg...\n",
      "Removing bleu-des-causses_fromage_1.jpg...\n",
      "Removing morbier_fromage_1.jpg...\n",
      "Removing morbier_fromage_2.jpg...\n",
      "Removing morbier_fromage_84.jpg...\n",
      "Removing morbier_fromage_68.jpg...\n",
      "Removing morbier_fromage_85.jpg...\n",
      "Removing morbier_fromage_86.jpg...\n",
      "Removing morbier_fromage_25.jpg...\n",
      "Removing morbier_fromage_75.jpg...\n",
      "Removing morbier_fromage_3.jpg...\n",
      "Removing roquefort-papillon_fromage_98.jpg...\n",
      "Removing roquefort-papillon_fromage_2.jpg...\n",
      "Removing roquefort-papillon_fromage_97.jpg...\n",
      "Removing roquefort-papillon_fromage_90.jpg...\n",
      "Removing roquefort-papillon_fromage_1.jpg...\n",
      "Removing roquefort-papillon_fromage_3.jpg...\n",
      "Removing roquefort-papillon_fromage_96.jpg...\n",
      "Removing roquefort-papillon_fromage_30.jpg...\n",
      "Removing roquefort-papillon_fromage_33.jpg...\n",
      "Removing roquefort-papillon_fromage_37.jpg...\n",
      "Removing roquefort-papillon_fromage_47.jpg...\n",
      "Removing roquefort-gabriel-coulet_fromage_52.jpg...\n",
      "Removing roquefort-gabriel-coulet_fromage_3.jpg...\n",
      "Removing roquefort-gabriel-coulet_fromage_1.jpg...\n",
      "Removing roquefort-gabriel-coulet_fromage_82.jpg...\n",
      "Removing roquefort-gabriel-coulet_fromage_84.jpg...\n",
      "Removing roquefort-gabriel-coulet_fromage_42.jpg...\n",
      "Removing roquefort-gabriel-coulet_fromage_85.jpg...\n",
      "Removing roquefort-gabriel-coulet_fromage_96.jpg...\n",
      "Removing roquefort-gabriel-coulet_fromage_2.jpg...\n",
      "Removing langres_fromage_3.jpg...\n",
      "Removing langres_fromage_87.jpg...\n",
      "Removing langres_fromage_2.jpg...\n",
      "Removing langres_fromage_1.jpg...\n",
      "Removing langres_fromage_88.jpg...\n",
      "Removing langres_fromage_86.jpg...\n",
      "Removing langres_fromage_33.jpg...\n",
      "Removing crottin-de-chavignol_fromage_86.jpg...\n",
      "Removing crottin-de-chavignol_fromage_56.jpg...\n",
      "Removing crottin-de-chavignol_fromage_21.jpg...\n",
      "Removing crottin-de-chavignol_fromage_71.jpg...\n",
      "Removing crottin-de-chavignol_fromage_2.jpg...\n",
      "Removing crottin-de-chavignol_fromage_36.jpg...\n",
      "Removing crottin-de-chavignol_fromage_1.jpg...\n",
      "Removing crottin-de-chavignol_fromage_84.jpg...\n",
      "Removing crottin-de-chavignol_fromage_85.jpg...\n",
      "Removing crottin-de-chavignol_fromage_3.jpg...\n",
      "Removing roquefort-societe_fromage_2.jpg...\n",
      "Removing roquefort-societe_fromage_3.jpg...\n",
      "Removing roquefort-societe_fromage_1.jpg...\n",
      "Removing roquefort-societe_fromage_86.jpg...\n",
      "Removing red-leicester_fromage_1.jpg...\n",
      "Removing red-leicester_fromage_97.jpg...\n",
      "Removing red-leicester_fromage_2.jpg...\n",
      "Removing red-leicester_fromage_3.jpg...\n",
      "Removing red-leicester_fromage_98.jpg...\n",
      "Removing red-leicester_fromage_77.jpg...\n",
      "Removing red-leicester_fromage_96.jpg...\n",
      "Removing babybel_69.jpeg...\n",
      "Removing fondue-savoyarde_fromage_1.jpg...\n",
      "Removing fondue-savoyarde_fromage_3.jpg...\n",
      "Removing fondue-savoyarde_fromage_2.jpg...\n",
      "Removing vieux-boulogne_fromage_2.jpg...\n",
      "Removing vieux-boulogne_fromage_98.jpg...\n",
      "Removing vieux-boulogne_fromage_99.jpg...\n",
      "Removing vieux-boulogne_fromage_16.jpg...\n",
      "Removing vieux-boulogne_fromage_1.jpg...\n",
      "Removing vieux-boulogne_fromage_59.jpg...\n",
      "Removing vieux-boulogne_fromage_100.jpg...\n",
      "Removing vieux-boulogne_fromage_60.jpg...\n",
      "Removing vieux-boulogne_fromage_88.jpg...\n",
      "Removing vieux-boulogne_fromage_3.jpg...\n",
      "Removing gaperon_fromage_2.jpg...\n",
      "Removing gaperon_fromage_83.jpg...\n",
      "Removing gaperon_fromage_3.jpg...\n",
      "Removing gaperon_fromage_1.jpg...\n",
      "Removing gaperon_fromage_84.jpg...\n",
      "Removing gaperon_fromage_82.jpg...\n",
      "Removing brillat-savarin_fromage_2.jpg...\n",
      "Removing brillat-savarin_fromage_58.jpg...\n",
      "Removing brillat-savarin_fromage_3.jpg...\n",
      "Removing brillat-savarin_fromage_99.jpg...\n",
      "Removing brillat-savarin_fromage_90.jpg...\n",
      "Removing brillat-savarin_fromage_87.jpg...\n",
      "Removing brillat-savarin_fromage_1.jpg...\n",
      "Removing brillat-savarin_fromage_84.jpg...\n",
      "Removing pave-d'affinois_fromage_18.jpg...\n",
      "Removing pave-d'affinois_fromage_69.jpg...\n",
      "Removing pave-d'affinois_fromage_89.jpg...\n",
      "Removing pave-d'affinois_fromage_94.jpg...\n",
      "Removing pave-d'affinois_fromage_33.jpg...\n",
      "Removing pave-d'affinois_fromage_21.jpg...\n",
      "Removing pave-d'affinois_fromage_5.jpg...\n",
      "Removing pave-d'affinois_fromage_19.jpg...\n",
      "Removing pave-d'affinois_fromage_46.jpg...\n",
      "Removing pave-d'affinois_fromage_75.jpg...\n",
      "Removing pave-d'affinois_fromage_40.jpg...\n",
      "Removing pave-d'affinois_fromage_62.jpg...\n",
      "Removing pave-d'affinois_fromage_86.jpg...\n",
      "Removing pave-d'affinois_fromage_92.jpg...\n",
      "Removing pave-d'affinois_fromage_49.jpg...\n",
      "Removing pave-d'affinois_fromage_78.jpg...\n",
      "Removing pave-d'affinois_fromage_64.jpg...\n",
      "Removing pave-d'affinois_fromage_97.jpg...\n",
      "Removing pave-d'affinois_fromage_99.jpg...\n",
      "Removing pave-d'affinois_fromage_23.jpg...\n",
      "Removing pave-d'affinois_fromage_88.jpg...\n",
      "Removing pave-d'affinois_fromage_63.jpg...\n",
      "Removing pave-d'affinois_fromage_65.jpg...\n",
      "Removing pave-d'affinois_fromage_87.jpg...\n",
      "Removing pave-d'affinois_fromage_28.jpg...\n",
      "Removing pave-d'affinois_fromage_24.jpg...\n",
      "Removing pave-d'affinois_fromage_93.jpg...\n",
      "Removing pave-d'affinois_fromage_82.jpg...\n",
      "Removing pave-d'affinois_fromage_53.jpg...\n",
      "Removing pave-d'affinois_fromage_11.jpg...\n",
      "Removing pave-d'affinois_fromage_80.jpg...\n",
      "Removing pave-d'affinois_fromage_72.jpg...\n",
      "Removing pave-d'affinois_fromage_7.jpg...\n",
      "Removing pave-d'affinois_fromage_56.jpg...\n",
      "Removing pave-d'affinois_fromage_16.jpg...\n",
      "Removing pave-d'affinois_fromage_67.jpg...\n",
      "Removing pave-d'affinois_fromage_50.jpg...\n",
      "Removing pave-d'affinois_fromage_10.jpg...\n",
      "Removing pave-d'affinois_fromage_41.jpg...\n",
      "Removing pave-d'affinois_fromage_42.jpg...\n",
      "Removing pave-d'affinois_fromage_2.jpg...\n",
      "Removing pave-d'affinois_fromage_60.jpg...\n",
      "Removing pave-d'affinois_fromage_29.jpg...\n",
      "Removing pave-d'affinois_fromage_48.jpg...\n",
      "Removing pave-d'affinois_fromage_66.jpg...\n",
      "Removing pave-d'affinois_fromage_37.jpg...\n",
      "Removing pave-d'affinois_fromage_12.jpg...\n",
      "Removing pave-d'affinois_fromage_35.jpg...\n",
      "Removing pave-d'affinois_fromage_91.jpg...\n",
      "Removing pave-d'affinois_fromage_26.jpg...\n",
      "Removing pave-d'affinois_fromage_45.jpg...\n",
      "Removing pave-d'affinois_fromage_14.jpg...\n",
      "Removing pave-d'affinois_fromage_90.jpg...\n",
      "Removing pave-d'affinois_fromage_83.jpg...\n",
      "Removing pave-d'affinois_fromage_95.jpg...\n",
      "Removing pave-d'affinois_fromage_68.jpg...\n",
      "Removing pave-d'affinois_fromage_39.jpg...\n",
      "Removing pave-d'affinois_fromage_73.jpg...\n",
      "Removing pave-d'affinois_fromage_100.jpg...\n",
      "Removing pave-d'affinois_fromage_6.jpg...\n",
      "Removing pave-d'affinois_fromage_44.jpg...\n",
      "Removing pave-d'affinois_fromage_51.jpg...\n",
      "Removing pave-d'affinois_fromage_70.jpg...\n",
      "Removing pave-d'affinois_fromage_81.jpg...\n",
      "Removing pave-d'affinois_fromage_98.jpg...\n",
      "Removing pave-d'affinois_fromage_13.jpg...\n",
      "Removing pave-d'affinois_fromage_1.jpg...\n",
      "Removing pave-d'affinois_fromage_54.jpg...\n",
      "Removing pave-d'affinois_fromage_71.jpg...\n",
      "Removing pave-d'affinois_fromage_77.jpg...\n",
      "Removing pave-d'affinois_fromage_9.jpg...\n",
      "Removing pave-d'affinois_fromage_47.jpg...\n",
      "Removing pave-d'affinois_fromage_74.jpg...\n",
      "Removing pave-d'affinois_fromage_96.jpg...\n",
      "Removing pave-d'affinois_fromage_15.jpg...\n",
      "Removing pave-d'affinois_fromage_36.jpg...\n",
      "Removing pave-d'affinois_fromage_85.jpg...\n",
      "Removing pave-d'affinois_fromage_55.jpg...\n",
      "Removing pave-d'affinois_fromage_25.jpg...\n",
      "Removing pave-d'affinois_fromage_38.jpg...\n",
      "Removing pave-d'affinois_fromage_27.jpg...\n",
      "Removing pave-d'affinois_fromage_8.jpg...\n",
      "Removing pave-d'affinois_fromage_43.jpg...\n",
      "Removing pave-d'affinois_fromage_20.jpg...\n",
      "Removing pave-d'affinois_fromage_30.jpg...\n",
      "Removing pave-d'affinois_fromage_31.jpg...\n",
      "Removing pave-d'affinois_fromage_3.jpg...\n",
      "Removing pave-d'affinois_fromage_32.jpg...\n",
      "Removing pave-d'affinois_fromage_79.jpg...\n",
      "Removing pave-d'affinois_fromage_34.jpg...\n",
      "Removing pave-d'affinois_fromage_17.jpg...\n",
      "Removing pave-d'affinois_fromage_52.jpg...\n",
      "Removing pave-d'affinois_fromage_58.jpg...\n",
      "Removing pave-d'affinois_fromage_84.jpg...\n",
      "Removing pave-d'affinois_fromage_4.jpg...\n",
      "Removing pave-d'affinois_fromage_57.jpg...\n",
      "Removing pave-d'affinois_fromage_59.jpg...\n",
      "Removing pave-d'affinois_fromage_22.jpg...\n",
      "Removing pave-d'affinois_fromage_61.jpg...\n",
      "Removing pave-d'affinois_fromage_76.jpg...\n",
      "Removing vieux-lille_fromage_51.jpg...\n",
      "Removing vieux-lille_fromage_85.jpg...\n",
      "Removing vieux-lille_fromage_81.jpg...\n",
      "Removing vieux-lille_fromage_93.jpg...\n",
      "Removing vieux-lille_fromage_90.jpg...\n",
      "Removing vieux-lille_fromage_20.jpg...\n",
      "Removing vieux-lille_fromage_89.jpg...\n",
      "Removing vieux-lille_fromage_1.jpg...\n",
      "Removing vieux-lille_fromage_88.jpg...\n",
      "Removing vieux-lille_fromage_6.jpg...\n",
      "Removing vieux-lille_fromage_3.jpg...\n",
      "Removing vieux-lille_fromage_2.jpg...\n",
      "Removing brie_fromage_2.jpg...\n",
      "Removing brie_fromage_1.jpg...\n",
      "Removing brie_fromage_3.jpg...\n",
      "Removing brie_fromage_59.jpg...\n",
      "Removing munster_fromage_1.jpg...\n",
      "Removing munster_fromage_2.jpg...\n",
      "Removing munster_fromage_3.jpg...\n",
      "Removing laguiole_fromage_1.jpg...\n",
      "Removing laguiole_fromage_47.jpg...\n",
      "Removing laguiole_fromage_97.jpg...\n",
      "Removing laguiole_fromage_96.jpg...\n",
      "Removing laguiole_fromage_95.jpg...\n",
      "Removing laguiole_fromage_82.jpg...\n",
      "Removing laguiole_fromage_2.jpg...\n",
      "Removing laguiole_fromage_3.jpg...\n",
      "Removing laguiole_fromage_30.jpg...\n",
      "Removing coulommiers_fromage_23.jpg...\n",
      "Removing coulommiers_fromage_91.jpg...\n",
      "Removing coulommiers_fromage_66.jpg...\n",
      "Removing coulommiers_fromage_2.jpg...\n",
      "Removing coulommiers_fromage_1.jpg...\n",
      "Removing coulommiers_fromage_93.jpg...\n",
      "Removing coulommiers_fromage_3.jpg...\n",
      "Removing coulommiers_fromage_92.jpg...\n",
      "Removing tomme-des-pyrenees_fromage_2.jpg...\n",
      "Removing tomme-des-pyrenees_fromage_1.jpg...\n",
      "Removing tomme-des-pyrenees_fromage_25.jpg...\n",
      "Removing tomme-des-pyrenees_fromage_99.jpg...\n",
      "Removing tomme-des-pyrenees_fromage_3.jpg...\n",
      "Removing tomme-des-pyrenees_fromage_98.jpg...\n",
      "Removing tomme-des-pyrenees_fromage_100.jpg...\n",
      "Removing tomme-des-pyrenees_fromage_26.jpg...\n",
      "Removing raclette_fromage_1.jpg...\n",
      "Removing raclette_fromage_2.jpg...\n",
      "Removing raclette_fromage_3.jpg...\n",
      "Removing tamie_fromage_1.jpg...\n",
      "Removing tamie_fromage_89.jpg...\n",
      "Removing tamie_fromage_2.jpg...\n",
      "Removing tamie_fromage_57.jpg...\n",
      "Removing tamie_fromage_90.jpg...\n",
      "Removing tamie_fromage_91.jpg...\n",
      "Removing tamie_fromage_30.jpg...\n",
      "Removing tamie_fromage_3.jpg...\n",
      "Removing maredsous_fromage_3.jpg...\n",
      "Removing maredsous_fromage_36.jpg...\n",
      "Removing maredsous_fromage_1.jpg...\n",
      "Removing maredsous_fromage_2.jpg...\n",
      "Removing saint-felicien_fromage_27.jpg...\n",
      "Removing saint-felicien_fromage_95.jpg...\n",
      "Removing saint-felicien_fromage_96.jpg...\n",
      "Removing saint-felicien_fromage_3.jpg...\n",
      "Removing saint-felicien_fromage_2.jpg...\n",
      "Removing saint-felicien_fromage_25.jpg...\n",
      "Removing saint-felicien_fromage_94.jpg...\n",
      "Removing saint-felicien_fromage_1.jpg...\n",
      "Removing reblochon_52.jpeg...\n",
      "Removing reblochon_36.jpeg...\n",
      "Removing reblochon_77.jpeg...\n",
      "Removing reblochon_21.jpeg...\n",
      "Removing reblochon_79.jpeg...\n",
      "Removing reblochon_76.jpeg...\n",
      "Removing gruyere_fromage_54.jpg...\n",
      "Removing gruyere_fromage_38.jpg...\n",
      "Removing gruyere_fromage_30.jpg...\n",
      "Removing gruyere_fromage_2.jpg...\n",
      "Removing gruyere_fromage_47.jpg...\n",
      "Removing gruyere_fromage_65.jpg...\n",
      "Removing gruyere_fromage_3.jpg...\n",
      "Removing gruyere_fromage_1.jpg...\n",
      "Removing salers_fromage_95.jpg...\n",
      "Removing salers_fromage_1.jpg...\n",
      "Removing salers_fromage_2.jpg...\n",
      "Removing salers_fromage_3.jpg...\n",
      "Removing salers_fromage_60.jpg...\n",
      "Removing sainte-maure-de-touraine_fromage_95.jpg...\n",
      "Removing sainte-maure-de-touraine_fromage_50.jpg...\n",
      "Removing sainte-maure-de-touraine_fromage_2.jpg...\n",
      "Removing sainte-maure-de-touraine_fromage_1.jpg...\n",
      "Removing sainte-maure-de-touraine_fromage_96.jpg...\n",
      "Removing sainte-maure-de-touraine_fromage_3.jpg...\n",
      "Removing sainte-maure-de-touraine_fromage_94.jpg...\n",
      "Removing saint-marcellin_fromage_100.jpg...\n",
      "Removing saint-marcellin_fromage_1.jpg...\n",
      "Removing saint-marcellin_fromage_3.jpg...\n",
      "Removing saint-marcellin_fromage_98.jpg...\n",
      "Removing saint-marcellin_fromage_2.jpg...\n",
      "Removing saint-marcellin_fromage_99.jpg...\n",
      "Removing stilton_fromage_2.jpg...\n",
      "Removing stilton_fromage_5.jpg...\n",
      "Removing stilton_fromage_3.jpg...\n",
      "Removing stilton_fromage_1.jpg...\n",
      "Removing stilton_fromage_7.jpg...\n",
      "Removing stilton_fromage_11.jpg...\n",
      "Removing bleu-du-vercors-sassenage_fromage_1.jpg...\n",
      "Removing bleu-du-vercors-sassenage_fromage_2.jpg...\n",
      "Removing bleu-du-vercors-sassenage_fromage_100.jpg...\n",
      "Removing bleu-du-vercors-sassenage_fromage_98.jpg...\n",
      "Removing bleu-du-vercors-sassenage_fromage_99.jpg...\n",
      "Removing bleu-du-vercors-sassenage_fromage_3.jpg...\n",
      "Removing pouligny-saint-pierre_fromage_1.jpg...\n",
      "Removing pouligny-saint-pierre_fromage_3.jpg...\n",
      "Removing pouligny-saint-pierre_fromage_2.jpg...\n",
      "Removing beaufort-d'ete_fromage_43.jpg...\n",
      "Removing beaufort-d'ete_fromage_98.jpg...\n",
      "Removing beaufort-d'ete_fromage_97.jpg...\n",
      "Removing beaufort-d'ete_fromage_99.jpg...\n",
      "Removing beaufort-d'ete_fromage_2.jpg...\n",
      "Removing beaufort-d'ete_fromage_1.jpg...\n",
      "Removing beaufort-d'ete_fromage_56.jpg...\n",
      "Removing beaufort-d'ete_fromage_3.jpg...\n",
      "Removing beaufort-d'hiver_fromage_59.jpg...\n",
      "Removing beaufort-d'hiver_fromage_8.jpg...\n",
      "Removing beaufort-d'hiver_fromage_99.jpg...\n",
      "Removing beaufort-d'hiver_fromage_1.jpg...\n",
      "Removing beaufort-d'hiver_fromage_7.jpg...\n",
      "Removing beaufort-d'hiver_fromage_87.jpg...\n",
      "Removing beaufort-d'hiver_fromage_38.jpg...\n",
      "Removing beaufort-d'hiver_fromage_89.jpg...\n",
      "Removing beaufort-d'hiver_fromage_31.jpg...\n",
      "Removing beaufort-d'hiver_fromage_74.jpg...\n",
      "Removing beaufort-d'hiver_fromage_30.jpg...\n",
      "Removing beaufort-d'hiver_fromage_47.jpg...\n",
      "Removing beaufort-d'hiver_fromage_78.jpg...\n",
      "Removing beaufort-d'hiver_fromage_73.jpg...\n",
      "Removing beaufort-d'hiver_fromage_91.jpg...\n",
      "Removing beaufort-d'hiver_fromage_29.jpg...\n",
      "Removing beaufort-d'hiver_fromage_19.jpg...\n",
      "Removing beaufort-d'hiver_fromage_56.jpg...\n",
      "Removing beaufort-d'hiver_fromage_77.jpg...\n",
      "Removing beaufort-d'hiver_fromage_49.jpg...\n",
      "Removing beaufort-d'hiver_fromage_93.jpg...\n",
      "Removing beaufort-d'hiver_fromage_15.jpg...\n",
      "Removing beaufort-d'hiver_fromage_62.jpg...\n",
      "Removing beaufort-d'hiver_fromage_70.jpg...\n",
      "Removing beaufort-d'hiver_fromage_57.jpg...\n",
      "Removing beaufort-d'hiver_fromage_94.jpg...\n",
      "Removing beaufort-d'hiver_fromage_5.jpg...\n",
      "Removing beaufort-d'hiver_fromage_16.jpg...\n",
      "Removing beaufort-d'hiver_fromage_53.jpg...\n",
      "Removing beaufort-d'hiver_fromage_50.jpg...\n",
      "Removing beaufort-d'hiver_fromage_85.jpg...\n",
      "Removing beaufort-d'hiver_fromage_72.jpg...\n",
      "Removing beaufort-d'hiver_fromage_81.jpg...\n",
      "Removing beaufort-d'hiver_fromage_40.jpg...\n",
      "Removing beaufort-d'hiver_fromage_63.jpg...\n",
      "Removing beaufort-d'hiver_fromage_3.jpg...\n",
      "Removing beaufort-d'hiver_fromage_97.jpg...\n",
      "Removing beaufort-d'hiver_fromage_66.jpg...\n",
      "Removing beaufort-d'hiver_fromage_88.jpg...\n",
      "Removing beaufort-d'hiver_fromage_95.jpg...\n",
      "Removing beaufort-d'hiver_fromage_55.jpg...\n",
      "Removing beaufort-d'hiver_fromage_75.jpg...\n",
      "Removing beaufort-d'hiver_fromage_22.jpg...\n",
      "Removing beaufort-d'hiver_fromage_14.jpg...\n",
      "Removing beaufort-d'hiver_fromage_54.jpg...\n",
      "Removing beaufort-d'hiver_fromage_51.jpg...\n",
      "Removing beaufort-d'hiver_fromage_83.jpg...\n",
      "Removing beaufort-d'hiver_fromage_52.jpg...\n",
      "Removing beaufort-d'hiver_fromage_46.jpg...\n",
      "Removing beaufort-d'hiver_fromage_96.jpg...\n",
      "Removing beaufort-d'hiver_fromage_84.jpg...\n",
      "Removing beaufort-d'hiver_fromage_17.jpg...\n",
      "Removing beaufort-d'hiver_fromage_21.jpg...\n",
      "Removing beaufort-d'hiver_fromage_43.jpg...\n",
      "Removing beaufort-d'hiver_fromage_64.jpg...\n",
      "Removing beaufort-d'hiver_fromage_71.jpg...\n",
      "Removing beaufort-d'hiver_fromage_79.jpg...\n",
      "Removing beaufort-d'hiver_fromage_24.jpg...\n",
      "Removing beaufort-d'hiver_fromage_45.jpg...\n",
      "Removing beaufort-d'hiver_fromage_36.jpg...\n",
      "Removing beaufort-d'hiver_fromage_44.jpg...\n",
      "Removing beaufort-d'hiver_fromage_11.jpg...\n",
      "Removing beaufort-d'hiver_fromage_65.jpg...\n",
      "Removing beaufort-d'hiver_fromage_82.jpg...\n",
      "Removing beaufort-d'hiver_fromage_12.jpg...\n",
      "Removing beaufort-d'hiver_fromage_48.jpg...\n",
      "Removing beaufort-d'hiver_fromage_25.jpg...\n",
      "Removing beaufort-d'hiver_fromage_10.jpg...\n",
      "Removing beaufort-d'hiver_fromage_35.jpg...\n",
      "Removing beaufort-d'hiver_fromage_58.jpg...\n",
      "Removing beaufort-d'hiver_fromage_6.jpg...\n",
      "Removing beaufort-d'hiver_fromage_20.jpg...\n",
      "Removing beaufort-d'hiver_fromage_32.jpg...\n",
      "Removing beaufort-d'hiver_fromage_41.jpg...\n",
      "Removing beaufort-d'hiver_fromage_28.jpg...\n",
      "Removing beaufort-d'hiver_fromage_2.jpg...\n",
      "Removing beaufort-d'hiver_fromage_37.jpg...\n",
      "Removing beaufort-d'hiver_fromage_23.jpg...\n",
      "Removing beaufort-d'hiver_fromage_26.jpg...\n",
      "Removing beaufort-d'hiver_fromage_18.jpg...\n",
      "Removing beaufort-d'hiver_fromage_61.jpg...\n",
      "Removing beaufort-d'hiver_fromage_42.jpg...\n",
      "Removing beaufort-d'hiver_fromage_69.jpg...\n",
      "Removing beaufort-d'hiver_fromage_9.jpg...\n",
      "Removing beaufort-d'hiver_fromage_4.jpg...\n",
      "Removing beaufort-d'hiver_fromage_100.jpg...\n",
      "Removing beaufort-d'hiver_fromage_68.jpg...\n",
      "Removing beaufort-d'hiver_fromage_92.jpg...\n",
      "Removing beaufort-d'hiver_fromage_67.jpg...\n",
      "Removing beaufort-d'hiver_fromage_98.jpg...\n",
      "Removing beaufort-d'hiver_fromage_13.jpg...\n",
      "Removing beaufort-d'hiver_fromage_80.jpg...\n",
      "Removing beaufort-d'hiver_fromage_76.jpg...\n",
      "Removing beaufort-d'hiver_fromage_33.jpg...\n",
      "Removing beaufort-d'hiver_fromage_90.jpg...\n",
      "Removing beaufort-d'hiver_fromage_34.jpg...\n",
      "Removing beaufort-d'hiver_fromage_60.jpg...\n",
      "Removing beaufort-d'hiver_fromage_39.jpg...\n",
      "Removing beaufort-d'hiver_fromage_27.jpg...\n",
      "Removing beaufort-d'hiver_fromage_86.jpg...\n",
      "Removing brocciu_fromage_3.jpg...\n",
      "Removing brocciu_fromage_2.jpg...\n",
      "Removing brocciu_fromage_1.jpg...\n",
      "Removing brocciu_fromage_71.jpg...\n",
      "Removing pont-l'eveque_fromage_2.jpg...\n",
      "Removing pont-l'eveque_fromage_3.jpg...\n",
      "Removing pont-l'eveque_fromage_83.jpg...\n",
      "Removing pont-l'eveque_fromage_84.jpg...\n",
      "Removing pont-l'eveque_fromage_85.jpg...\n",
      "Removing pont-l'eveque_fromage_1.jpg...\n",
      "Removing leerdammer_fromage_100.jpg...\n",
      "Removing leerdammer_fromage_1.jpg...\n",
      "Removing leerdammer_fromage_3.jpg...\n",
      "Removing leerdammer_fromage_99.jpg...\n",
      "Removing leerdammer_fromage_2.jpg...\n",
      "Removing bleu-de-bresse_fromage_3.jpg...\n",
      "Removing bleu-de-bresse_fromage_45.jpg...\n",
      "Removing bleu-de-bresse_fromage_1.jpg...\n",
      "Removing bleu-de-bresse_fromage_2.jpg...\n",
      "Removing tete-de-moine_fromage_97.jpg...\n",
      "Removing tete-de-moine_fromage_1.jpg...\n",
      "Removing tete-de-moine_fromage_95.jpg...\n",
      "Removing tete-de-moine_fromage_3.jpg...\n",
      "Removing tete-de-moine_fromage_96.jpg...\n",
      "Removing tete-de-moine_fromage_2.jpg...\n",
      "Removing boursin_fromage_97.jpg...\n",
      "Removing boursin_fromage_3.jpg...\n",
      "Removing boursin_fromage_98.jpg...\n",
      "Removing boursin_fromage_27.jpg...\n",
      "Removing boursin_fromage_2.jpg...\n",
      "Removing boursin_fromage_1.jpg...\n",
      "Removing boursin_fromage_99.jpg...\n",
      "Removing rocamadour_fromage_2.jpg...\n",
      "Removing rocamadour_fromage_1.jpg...\n",
      "Removing rocamadour_fromage_7.jpg...\n",
      "Removing rocamadour_fromage_67.jpg...\n",
      "Removing rocamadour_fromage_52.jpg...\n",
      "Removing rocamadour_fromage_3.jpg...\n",
      "Removing gouda_fromage_94.jpg...\n",
      "Removing gouda_fromage_2.jpg...\n",
      "Removing gouda_fromage_92.jpg...\n",
      "Removing gouda_fromage_1.jpg...\n",
      "Removing gouda_fromage_3.jpg...\n",
      "Removing gouda_fromage_64.jpg...\n",
      "Removing gouda_fromage_93.jpg...\n",
      "Removing gouda_fromage_84.jpg...\n",
      "Removing cantal_fromage_3.jpg...\n",
      "Removing cantal_fromage_51.jpg...\n",
      "Removing cantal_fromage_2.jpg...\n",
      "Removing cantal_fromage_99.jpg...\n",
      "Removing cantal_fromage_1.jpg...\n",
      "Removing cantal_fromage_100.jpg...\n",
      "Removing pelardon_fromage_1.jpg...\n",
      "Removing pelardon_fromage_56.jpg...\n",
      "Removing pelardon_fromage_76.jpg...\n",
      "Removing pelardon_fromage_3.jpg...\n",
      "Removing pelardon_fromage_2.jpg...\n",
      "Removing pelardon_fromage_61.jpg...\n",
      "Removing pelardon_fromage_54.jpg...\n",
      "Removing pelardon_fromage_77.jpg...\n",
      "Removing pelardon_fromage_75.jpg...\n",
      "Removing grebeye_fromage_1.jpg...\n",
      "Removing grebeye_fromage_75.jpg...\n",
      "Removing grebeye_fromage_3.jpg...\n",
      "Removing grebeye_fromage_74.jpg...\n",
      "Removing grebeye_fromage_2.jpg...\n",
      "Removing grebeye_fromage_73.jpg...\n",
      "Removing selles-sur-cher_fromage_3.jpg...\n",
      "Removing selles-sur-cher_fromage_2.jpg...\n",
      "Removing selles-sur-cher_fromage_1.jpg...\n",
      "Removing selles-sur-cher_fromage_22.jpg...\n",
      "Removing chavignol_fromage_2.jpg...\n",
      "Removing chavignol_fromage_38.jpg...\n",
      "Removing chavignol_fromage_91.jpg...\n",
      "Removing chavignol_fromage_3.jpg...\n",
      "Removing chavignol_fromage_1.jpg...\n",
      "Removing chavignol_fromage_16.jpg...\n",
      "Removing chavignol_fromage_81.jpg...\n",
      "Removing chavignol_fromage_54.jpg...\n",
      "Removing chavignol_fromage_92.jpg...\n",
      "Removing chavignol_fromage_75.jpg...\n",
      "Removing chavignol_fromage_93.jpg...\n",
      "Removing chavignol_fromage_61.jpg...\n",
      "Removing petit-suisse_fromage_3.jpg...\n",
      "Removing petit-suisse_fromage_56.jpg...\n",
      "Removing petit-suisse_fromage_2.jpg...\n",
      "Removing petit-suisse_fromage_89.jpg...\n",
      "Removing petit-suisse_fromage_1.jpg...\n",
      "Removing petit-suisse_fromage_91.jpg...\n",
      "Removing petit-suisse_fromage_90.jpg...\n",
      "Removing tomme-de-chevre_fromage_94.jpg...\n",
      "Removing tomme-de-chevre_fromage_2.jpg...\n",
      "Removing tomme-de-chevre_fromage_1.jpg...\n",
      "Removing tomme-de-chevre_fromage_3.jpg...\n",
      "Removing tomme-de-chevre_fromage_93.jpg...\n",
      "Removing tomme-de-chevre_fromage_95.jpg...\n",
      "Removing saint-nectaire_fromage_2.jpg...\n",
      "Removing saint-nectaire_fromage_1.jpg...\n",
      "Removing saint-nectaire_fromage_3.jpg...\n",
      "Removing cancoillotte_fromage_57.jpg...\n",
      "Removing cancoillotte_fromage_2.jpg...\n",
      "Removing cancoillotte_fromage_1.jpg...\n",
      "Removing cancoillotte_fromage_3.jpg...\n",
      "Removing cancoillotte_fromage_26.jpg...\n",
      "Removing cancoillotte_fromage_98.jpg...\n",
      "Removing cancoillotte_fromage_100.jpg...\n",
      "Removing cancoillotte_fromage_93.jpg...\n",
      "Removing cancoillotte_fromage_92.jpg...\n",
      "Removing cancoillotte_fromage_99.jpg...\n",
      "Removing cancoillotte_fromage_58.jpg...\n",
      "Removing cancoillotte_fromage_94.jpg...\n",
      "Removing caprice-des-dieux_fromage_1.jpg...\n",
      "Removing caprice-des-dieux_fromage_90.jpg...\n",
      "Removing caprice-des-dieux_fromage_91.jpg...\n",
      "Removing caprice-des-dieux_fromage_3.jpg...\n",
      "Removing caprice-des-dieux_fromage_2.jpg...\n",
      "Removing caprice-des-dieux_fromage_89.jpg...\n",
      "Removing mont-d'or_fromage_1.jpg...\n",
      "Removing mont-d'or_fromage_40.jpg...\n",
      "Removing mont-d'or_fromage_2.jpg...\n",
      "Removing mont-d'or_fromage_3.jpg...\n",
      "Removing parmesan_fromage_2.jpg...\n",
      "Removing parmesan_fromage_84.jpg...\n",
      "Removing parmesan_fromage_3.jpg...\n",
      "Removing parmesan_fromage_1.jpg...\n",
      "Removing parmesan_fromage_93.jpg...\n",
      "Removing comté_63.jpeg...\n",
      "Removing roquefort_83.jpeg...\n",
      "Removing etorki_fromage_49.jpg...\n",
      "Removing etorki_fromage_90.jpg...\n",
      "Removing etorki_fromage_46.jpg...\n",
      "Removing etorki_fromage_91.jpg...\n",
      "Removing etorki_fromage_89.jpg...\n",
      "Removing etorki_fromage_1.jpg...\n",
      "Removing etorki_fromage_3.jpg...\n",
      "Removing etorki_fromage_2.jpg...\n",
      "Removing etorki_fromage_50.jpg...\n",
      "Removing roquefort-carles_fromage_88.jpg...\n",
      "Removing roquefort-carles_fromage_38.jpg...\n",
      "Removing roquefort-carles_fromage_3.jpg...\n",
      "Removing roquefort-carles_fromage_2.jpg...\n",
      "Removing roquefort-carles_fromage_1.jpg...\n",
      "Removing roquefort-carles_fromage_89.jpg...\n",
      "Removing roquefort-carles_fromage_90.jpg...\n",
      "Removing maroilles_fromage_2.jpg...\n",
      "Removing maroilles_fromage_1.jpg...\n",
      "Removing maroilles_fromage_69.jpg...\n",
      "Removing maroilles_fromage_3.jpg...\n",
      "Removing ossau-iraty_fromage_96.jpg...\n",
      "Removing ossau-iraty_fromage_1.jpg...\n",
      "Removing ossau-iraty_fromage_3.jpg...\n",
      "Removing ossau-iraty_fromage_95.jpg...\n",
      "Removing ossau-iraty_fromage_94.jpg...\n",
      "Removing ossau-iraty_fromage_2.jpg...\n"
     ]
    }
   ],
   "source": [
    "# Delete images that are less than 10Ko\n",
    "import os\n",
    "\n",
    "data_dir = 'simple_images'\n",
    "\n",
    "for root, dirs, files in os.walk(data_dir):\n",
    "    for file in files:\n",
    "        if os.path.getsize(os.path.join(root, file)) < 10000:\n",
    "            print(f\"Removing {file}...\")\n",
    "            os.remove(os.path.join(root, file))"
   ]
  },
  {
   "cell_type": "code",
   "execution_count": null,
   "metadata": {},
   "outputs": [],
   "source": [
    "# Define the directory path\n",
    "directory = 'simple_images'\n",
    "\n",
    "# Loop through all the subdirectories in the directory\n",
    "for root, dirs, files in os.walk(directory):\n",
    "    # Loop through all the files in the subdirectory\n",
    "    for file in files:\n",
    "        # Check if the file is a .jpg file\n",
    "        if file.endswith('.jpg') or file.endswith('.jpeg'):\n",
    "            print('Checking image:', file)\n",
    "            # Get the full path of the file\n",
    "            file_path = os.path.join(root, file)\n",
    "            # Try to open the file as an image\n",
    "            try:\n",
    "                with open(file_path, 'rb') as f:\n",
    "                    f.read()\n",
    "            # If the file cannot be opened, remove it\n",
    "            except IOError:\n",
    "                os.remove(file_path)\n",
    "                print('Removed invalid image:', file_path)"
   ]
  },
  {
   "cell_type": "code",
   "execution_count": 16,
   "metadata": {},
   "outputs": [
    {
     "name": "stdout",
     "output_type": "stream",
     "text": [
      "Num GPUs Available:  1\n",
      "Found 5966 files belonging to 75 classes.\n",
      "Using 4773 files for training.\n",
      "Found 5966 files belonging to 75 classes.\n",
      "Using 1193 files for validation.\n",
      "Epoch 1/30\n"
     ]
    },
    {
     "name": "stderr",
     "output_type": "stream",
     "text": [
      "2023-03-27 17:11:05.193980: I tensorflow/core/common_runtime/executor.cc:1197] [/device:CPU:0] (DEBUG INFO) Executor start aborting (this does not indicate an error and you can ignore this message): INVALID_ARGUMENT: You must feed a value for placeholder tensor 'Placeholder/_20' with dtype resource\n",
      "\t [[{{node Placeholder/_20}}]]\n",
      "2023-03-27 17:11:05.194218: I tensorflow/core/common_runtime/executor.cc:1197] [/device:CPU:0] (DEBUG INFO) Executor start aborting (this does not indicate an error and you can ignore this message): INVALID_ARGUMENT: You must feed a value for placeholder tensor 'Placeholder/_0' with dtype string and shape [4773]\n",
      "\t [[{{node Placeholder/_0}}]]\n",
      "2023-03-27 17:11:05.705904: E tensorflow/core/grappler/optimizers/meta_optimizer.cc:954] layout failed: INVALID_ARGUMENT: Size of values 0 does not match size of permutation 4 @ fanin shape insequential_15/dropout_7/dropout/SelectV2-2-TransposeNHWCToNCHW-LayoutOptimizer\n"
     ]
    },
    {
     "name": "stdout",
     "output_type": "stream",
     "text": [
      " 12/150 [=>............................] - ETA: 18s - loss: 4.3527 - accuracy: 0.0104"
     ]
    },
    {
     "name": "stderr",
     "output_type": "stream",
     "text": [
      "2023-03-27 17:11:08.376605: W tensorflow/core/lib/png/png_io.cc:88] PNG warning: iCCP: known incorrect sRGB profile\n"
     ]
    },
    {
     "name": "stdout",
     "output_type": "stream",
     "text": [
      " 73/150 [=============>................] - ETA: 10s - loss: 4.3250 - accuracy: 0.0154"
     ]
    },
    {
     "name": "stderr",
     "output_type": "stream",
     "text": [
      "2023-03-27 17:11:16.717170: W tensorflow/core/lib/png/png_io.cc:88] PNG warning: iCCP: known incorrect sRGB profile\n"
     ]
    },
    {
     "name": "stdout",
     "output_type": "stream",
     "text": [
      "103/150 [===================>..........] - ETA: 6s - loss: 4.3160 - accuracy: 0.0158"
     ]
    },
    {
     "name": "stderr",
     "output_type": "stream",
     "text": [
      "2023-03-27 17:11:20.813385: W tensorflow/core/lib/png/png_io.cc:88] PNG warning: iCCP: known incorrect sRGB profile\n"
     ]
    },
    {
     "name": "stdout",
     "output_type": "stream",
     "text": [
      "126/150 [========================>.....] - ETA: 3s - loss: 4.3160 - accuracy: 0.0186"
     ]
    },
    {
     "name": "stderr",
     "output_type": "stream",
     "text": [
      "2023-03-27 17:11:23.852212: W tensorflow/core/lib/png/png_io.cc:88] PNG warning: iCCP: known incorrect sRGB profile\n"
     ]
    },
    {
     "name": "stdout",
     "output_type": "stream",
     "text": [
      "149/150 [============================>.] - ETA: 0s - loss: 4.3094 - accuracy: 0.0203"
     ]
    },
    {
     "name": "stderr",
     "output_type": "stream",
     "text": [
      "2023-03-27 17:11:26.998790: I tensorflow/core/common_runtime/executor.cc:1197] [/device:CPU:0] (DEBUG INFO) Executor start aborting (this does not indicate an error and you can ignore this message): INVALID_ARGUMENT: You must feed a value for placeholder tensor 'Placeholder/_0' with dtype string and shape [1193]\n",
      "\t [[{{node Placeholder/_0}}]]\n",
      "2023-03-27 17:11:26.998996: I tensorflow/core/common_runtime/executor.cc:1197] [/device:CPU:0] (DEBUG INFO) Executor start aborting (this does not indicate an error and you can ignore this message): INVALID_ARGUMENT: You must feed a value for placeholder tensor 'Placeholder/_4' with dtype int32 and shape [1193]\n",
      "\t [[{{node Placeholder/_4}}]]\n",
      "2023-03-27 17:11:27.858603: W tensorflow/core/lib/png/png_io.cc:88] PNG warning: iCCP: known incorrect sRGB profile\n",
      "2023-03-27 17:11:27.996905: W tensorflow/core/lib/png/png_io.cc:88] PNG warning: iCCP: known incorrect sRGB profile\n"
     ]
    },
    {
     "name": "stdout",
     "output_type": "stream",
     "text": [
      "150/150 [==============================] - 25s 153ms/step - loss: 4.3094 - accuracy: 0.0203 - val_loss: 49.5421 - val_accuracy: 0.0251\n",
      "Epoch 2/30\n",
      " 12/150 [=>............................] - ETA: 19s - loss: 4.2564 - accuracy: 0.0208"
     ]
    },
    {
     "name": "stderr",
     "output_type": "stream",
     "text": [
      "2023-03-27 17:11:31.797009: W tensorflow/core/lib/png/png_io.cc:88] PNG warning: iCCP: known incorrect sRGB profile\n"
     ]
    },
    {
     "name": "stdout",
     "output_type": "stream",
     "text": [
      " 73/150 [=============>................] - ETA: 10s - loss: 4.2491 - accuracy: 0.0334"
     ]
    },
    {
     "name": "stderr",
     "output_type": "stream",
     "text": [
      "2023-03-27 17:11:40.261955: W tensorflow/core/lib/png/png_io.cc:88] PNG warning: iCCP: known incorrect sRGB profile\n"
     ]
    },
    {
     "name": "stdout",
     "output_type": "stream",
     "text": [
      "103/150 [===================>..........] - ETA: 6s - loss: 4.2310 - accuracy: 0.0355"
     ]
    },
    {
     "name": "stderr",
     "output_type": "stream",
     "text": [
      "2023-03-27 17:11:44.464700: W tensorflow/core/lib/png/png_io.cc:88] PNG warning: iCCP: known incorrect sRGB profile\n"
     ]
    },
    {
     "name": "stdout",
     "output_type": "stream",
     "text": [
      "126/150 [========================>.....] - ETA: 3s - loss: 4.2160 - accuracy: 0.0409"
     ]
    },
    {
     "name": "stderr",
     "output_type": "stream",
     "text": [
      "2023-03-27 17:11:47.627540: W tensorflow/core/lib/png/png_io.cc:88] PNG warning: iCCP: known incorrect sRGB profile\n"
     ]
    },
    {
     "name": "stdout",
     "output_type": "stream",
     "text": [
      "149/150 [============================>.] - ETA: 0s - loss: 4.2101 - accuracy: 0.0424"
     ]
    },
    {
     "name": "stderr",
     "output_type": "stream",
     "text": [
      "2023-03-27 17:11:51.652879: W tensorflow/core/lib/png/png_io.cc:88] PNG warning: iCCP: known incorrect sRGB profile\n",
      "2023-03-27 17:11:51.808746: W tensorflow/core/lib/png/png_io.cc:88] PNG warning: iCCP: known incorrect sRGB profile\n"
     ]
    },
    {
     "name": "stdout",
     "output_type": "stream",
     "text": [
      "150/150 [==============================] - 24s 155ms/step - loss: 4.2101 - accuracy: 0.0423 - val_loss: 136.6441 - val_accuracy: 0.0310\n",
      "Epoch 3/30\n",
      " 12/150 [=>............................] - ETA: 19s - loss: 4.1232 - accuracy: 0.0573"
     ]
    },
    {
     "name": "stderr",
     "output_type": "stream",
     "text": [
      "2023-03-27 17:11:55.522496: W tensorflow/core/lib/png/png_io.cc:88] PNG warning: iCCP: known incorrect sRGB profile\n"
     ]
    },
    {
     "name": "stdout",
     "output_type": "stream",
     "text": [
      " 73/150 [=============>................] - ETA: 10s - loss: 4.1207 - accuracy: 0.0467"
     ]
    },
    {
     "name": "stderr",
     "output_type": "stream",
     "text": [
      "2023-03-27 17:12:03.822476: W tensorflow/core/lib/png/png_io.cc:88] PNG warning: iCCP: known incorrect sRGB profile\n"
     ]
    },
    {
     "name": "stdout",
     "output_type": "stream",
     "text": [
      "103/150 [===================>..........] - ETA: 6s - loss: 4.1032 - accuracy: 0.0555"
     ]
    },
    {
     "name": "stderr",
     "output_type": "stream",
     "text": [
      "2023-03-27 17:12:07.865641: W tensorflow/core/lib/png/png_io.cc:88] PNG warning: iCCP: known incorrect sRGB profile\n"
     ]
    },
    {
     "name": "stdout",
     "output_type": "stream",
     "text": [
      "126/150 [========================>.....] - ETA: 3s - loss: 4.0982 - accuracy: 0.0548"
     ]
    },
    {
     "name": "stderr",
     "output_type": "stream",
     "text": [
      "2023-03-27 17:12:10.904714: W tensorflow/core/lib/png/png_io.cc:88] PNG warning: iCCP: known incorrect sRGB profile\n"
     ]
    },
    {
     "name": "stdout",
     "output_type": "stream",
     "text": [
      "149/150 [============================>.] - ETA: 0s - loss: 4.0928 - accuracy: 0.0558"
     ]
    },
    {
     "name": "stderr",
     "output_type": "stream",
     "text": [
      "2023-03-27 17:12:14.982618: W tensorflow/core/lib/png/png_io.cc:88] PNG warning: iCCP: known incorrect sRGB profile\n",
      "2023-03-27 17:12:15.119529: W tensorflow/core/lib/png/png_io.cc:88] PNG warning: iCCP: known incorrect sRGB profile\n"
     ]
    },
    {
     "name": "stdout",
     "output_type": "stream",
     "text": [
      "150/150 [==============================] - 24s 154ms/step - loss: 4.0934 - accuracy: 0.0557 - val_loss: 204.5163 - val_accuracy: 0.0394\n",
      "Epoch 4/30\n",
      " 12/150 [=>............................] - ETA: 20s - loss: 4.0345 - accuracy: 0.0573"
     ]
    },
    {
     "name": "stderr",
     "output_type": "stream",
     "text": [
      "2023-03-27 17:12:19.111883: W tensorflow/core/lib/png/png_io.cc:88] PNG warning: iCCP: known incorrect sRGB profile\n"
     ]
    },
    {
     "name": "stdout",
     "output_type": "stream",
     "text": [
      " 73/150 [=============>................] - ETA: 10s - loss: 4.0259 - accuracy: 0.0604"
     ]
    },
    {
     "name": "stderr",
     "output_type": "stream",
     "text": [
      "2023-03-27 17:12:27.595794: W tensorflow/core/lib/png/png_io.cc:88] PNG warning: iCCP: known incorrect sRGB profile\n"
     ]
    },
    {
     "name": "stdout",
     "output_type": "stream",
     "text": [
      "103/150 [===================>..........] - ETA: 6s - loss: 4.0012 - accuracy: 0.0643"
     ]
    },
    {
     "name": "stderr",
     "output_type": "stream",
     "text": [
      "2023-03-27 17:12:31.661128: W tensorflow/core/lib/png/png_io.cc:88] PNG warning: iCCP: known incorrect sRGB profile\n"
     ]
    },
    {
     "name": "stdout",
     "output_type": "stream",
     "text": [
      "126/150 [========================>.....] - ETA: 3s - loss: 3.9936 - accuracy: 0.0635"
     ]
    },
    {
     "name": "stderr",
     "output_type": "stream",
     "text": [
      "2023-03-27 17:12:34.798917: W tensorflow/core/lib/png/png_io.cc:88] PNG warning: iCCP: known incorrect sRGB profile\n"
     ]
    },
    {
     "name": "stdout",
     "output_type": "stream",
     "text": [
      "149/150 [============================>.] - ETA: 0s - loss: 3.9882 - accuracy: 0.0644"
     ]
    },
    {
     "name": "stderr",
     "output_type": "stream",
     "text": [
      "2023-03-27 17:12:38.877225: W tensorflow/core/lib/png/png_io.cc:88] PNG warning: iCCP: known incorrect sRGB profile\n",
      "2023-03-27 17:12:39.022822: W tensorflow/core/lib/png/png_io.cc:88] PNG warning: iCCP: known incorrect sRGB profile\n"
     ]
    },
    {
     "name": "stdout",
     "output_type": "stream",
     "text": [
      "150/150 [==============================] - 24s 155ms/step - loss: 3.9872 - accuracy: 0.0649 - val_loss: 403.6576 - val_accuracy: 0.0427\n",
      "Epoch 5/30\n",
      " 12/150 [=>............................] - ETA: 20s - loss: 4.0347 - accuracy: 0.0573"
     ]
    },
    {
     "name": "stderr",
     "output_type": "stream",
     "text": [
      "2023-03-27 17:12:42.870195: W tensorflow/core/lib/png/png_io.cc:88] PNG warning: iCCP: known incorrect sRGB profile\n"
     ]
    },
    {
     "name": "stdout",
     "output_type": "stream",
     "text": [
      " 73/150 [=============>................] - ETA: 10s - loss: 3.9669 - accuracy: 0.0595"
     ]
    },
    {
     "name": "stderr",
     "output_type": "stream",
     "text": [
      "2023-03-27 17:12:51.190283: W tensorflow/core/lib/png/png_io.cc:88] PNG warning: iCCP: known incorrect sRGB profile\n"
     ]
    },
    {
     "name": "stdout",
     "output_type": "stream",
     "text": [
      "103/150 [===================>..........] - ETA: 6s - loss: 3.9486 - accuracy: 0.0692"
     ]
    },
    {
     "name": "stderr",
     "output_type": "stream",
     "text": [
      "2023-03-27 17:12:55.311051: W tensorflow/core/lib/png/png_io.cc:88] PNG warning: iCCP: known incorrect sRGB profile\n"
     ]
    },
    {
     "name": "stdout",
     "output_type": "stream",
     "text": [
      "126/150 [========================>.....] - ETA: 3s - loss: 3.9348 - accuracy: 0.0714"
     ]
    },
    {
     "name": "stderr",
     "output_type": "stream",
     "text": [
      "2023-03-27 17:12:58.357938: W tensorflow/core/lib/png/png_io.cc:88] PNG warning: iCCP: known incorrect sRGB profile\n"
     ]
    },
    {
     "name": "stdout",
     "output_type": "stream",
     "text": [
      "149/150 [============================>.] - ETA: 0s - loss: 3.9280 - accuracy: 0.0713"
     ]
    },
    {
     "name": "stderr",
     "output_type": "stream",
     "text": [
      "2023-03-27 17:13:02.481408: W tensorflow/core/lib/png/png_io.cc:88] PNG warning: iCCP: known incorrect sRGB profile\n",
      "2023-03-27 17:13:02.622971: W tensorflow/core/lib/png/png_io.cc:88] PNG warning: iCCP: known incorrect sRGB profile\n"
     ]
    },
    {
     "name": "stdout",
     "output_type": "stream",
     "text": [
      "150/150 [==============================] - 24s 154ms/step - loss: 3.9281 - accuracy: 0.0712 - val_loss: 354.0394 - val_accuracy: 0.0377\n",
      "Epoch 6/30\n",
      " 12/150 [=>............................] - ETA: 19s - loss: 3.9143 - accuracy: 0.0729"
     ]
    },
    {
     "name": "stderr",
     "output_type": "stream",
     "text": [
      "2023-03-27 17:13:06.344975: W tensorflow/core/lib/png/png_io.cc:88] PNG warning: iCCP: known incorrect sRGB profile\n"
     ]
    },
    {
     "name": "stdout",
     "output_type": "stream",
     "text": [
      " 73/150 [=============>................] - ETA: 10s - loss: 3.8918 - accuracy: 0.0736"
     ]
    },
    {
     "name": "stderr",
     "output_type": "stream",
     "text": [
      "2023-03-27 17:13:14.802247: W tensorflow/core/lib/png/png_io.cc:88] PNG warning: iCCP: known incorrect sRGB profile\n"
     ]
    },
    {
     "name": "stdout",
     "output_type": "stream",
     "text": [
      "103/150 [===================>..........] - ETA: 6s - loss: 3.8781 - accuracy: 0.0777"
     ]
    },
    {
     "name": "stderr",
     "output_type": "stream",
     "text": [
      "2023-03-27 17:13:18.966428: W tensorflow/core/lib/png/png_io.cc:88] PNG warning: iCCP: known incorrect sRGB profile\n"
     ]
    },
    {
     "name": "stdout",
     "output_type": "stream",
     "text": [
      "126/150 [========================>.....] - ETA: 3s - loss: 3.8640 - accuracy: 0.0813"
     ]
    },
    {
     "name": "stderr",
     "output_type": "stream",
     "text": [
      "2023-03-27 17:13:22.108424: W tensorflow/core/lib/png/png_io.cc:88] PNG warning: iCCP: known incorrect sRGB profile\n"
     ]
    },
    {
     "name": "stdout",
     "output_type": "stream",
     "text": [
      "149/150 [============================>.] - ETA: 0s - loss: 3.8612 - accuracy: 0.0818"
     ]
    },
    {
     "name": "stderr",
     "output_type": "stream",
     "text": [
      "2023-03-27 17:13:26.158442: W tensorflow/core/lib/png/png_io.cc:88] PNG warning: iCCP: known incorrect sRGB profile\n",
      "2023-03-27 17:13:26.296407: W tensorflow/core/lib/png/png_io.cc:88] PNG warning: iCCP: known incorrect sRGB profile\n"
     ]
    },
    {
     "name": "stdout",
     "output_type": "stream",
     "text": [
      "150/150 [==============================] - 24s 156ms/step - loss: 3.8609 - accuracy: 0.0817 - val_loss: 312.4393 - val_accuracy: 0.0427\n",
      "Epoch 7/30\n",
      " 12/150 [=>............................] - ETA: 19s - loss: 3.7507 - accuracy: 0.0964"
     ]
    },
    {
     "name": "stderr",
     "output_type": "stream",
     "text": [
      "2023-03-27 17:13:30.117275: W tensorflow/core/lib/png/png_io.cc:88] PNG warning: iCCP: known incorrect sRGB profile\n"
     ]
    },
    {
     "name": "stdout",
     "output_type": "stream",
     "text": [
      " 73/150 [=============>................] - ETA: 10s - loss: 3.8183 - accuracy: 0.0852"
     ]
    },
    {
     "name": "stderr",
     "output_type": "stream",
     "text": [
      "2023-03-27 17:13:38.558949: W tensorflow/core/lib/png/png_io.cc:88] PNG warning: iCCP: known incorrect sRGB profile\n"
     ]
    },
    {
     "name": "stdout",
     "output_type": "stream",
     "text": [
      "103/150 [===================>..........] - ETA: 6s - loss: 3.8103 - accuracy: 0.0895"
     ]
    },
    {
     "name": "stderr",
     "output_type": "stream",
     "text": [
      "2023-03-27 17:13:42.659764: W tensorflow/core/lib/png/png_io.cc:88] PNG warning: iCCP: known incorrect sRGB profile\n"
     ]
    },
    {
     "name": "stdout",
     "output_type": "stream",
     "text": [
      "126/150 [========================>.....] - ETA: 3s - loss: 3.8106 - accuracy: 0.0918"
     ]
    },
    {
     "name": "stderr",
     "output_type": "stream",
     "text": [
      "2023-03-27 17:13:45.817144: W tensorflow/core/lib/png/png_io.cc:88] PNG warning: iCCP: known incorrect sRGB profile\n"
     ]
    },
    {
     "name": "stdout",
     "output_type": "stream",
     "text": [
      "149/150 [============================>.] - ETA: 0s - loss: 3.7965 - accuracy: 0.0965"
     ]
    },
    {
     "name": "stderr",
     "output_type": "stream",
     "text": [
      "2023-03-27 17:13:49.872296: W tensorflow/core/lib/png/png_io.cc:88] PNG warning: iCCP: known incorrect sRGB profile\n",
      "2023-03-27 17:13:50.011210: W tensorflow/core/lib/png/png_io.cc:88] PNG warning: iCCP: known incorrect sRGB profile\n"
     ]
    },
    {
     "name": "stdout",
     "output_type": "stream",
     "text": [
      "150/150 [==============================] - 24s 155ms/step - loss: 3.7963 - accuracy: 0.0966 - val_loss: 391.6019 - val_accuracy: 0.0511\n",
      "Epoch 8/30\n",
      " 12/150 [=>............................] - ETA: 18s - loss: 3.7040 - accuracy: 0.1146"
     ]
    },
    {
     "name": "stderr",
     "output_type": "stream",
     "text": [
      "2023-03-27 17:13:53.742361: W tensorflow/core/lib/png/png_io.cc:88] PNG warning: iCCP: known incorrect sRGB profile\n"
     ]
    },
    {
     "name": "stdout",
     "output_type": "stream",
     "text": [
      " 73/150 [=============>................] - ETA: 10s - loss: 3.7479 - accuracy: 0.1053"
     ]
    },
    {
     "name": "stderr",
     "output_type": "stream",
     "text": [
      "2023-03-27 17:14:02.131285: W tensorflow/core/lib/png/png_io.cc:88] PNG warning: iCCP: known incorrect sRGB profile\n"
     ]
    },
    {
     "name": "stdout",
     "output_type": "stream",
     "text": [
      "105/150 [====================>.........] - ETA: 6s - loss: 3.7638 - accuracy: 0.1060"
     ]
    },
    {
     "name": "stderr",
     "output_type": "stream",
     "text": [
      "2023-03-27 17:14:06.545615: W tensorflow/core/lib/png/png_io.cc:88] PNG warning: iCCP: known incorrect sRGB profile\n"
     ]
    },
    {
     "name": "stdout",
     "output_type": "stream",
     "text": [
      "128/150 [========================>.....] - ETA: 3s - loss: 3.7524 - accuracy: 0.1079"
     ]
    },
    {
     "name": "stderr",
     "output_type": "stream",
     "text": [
      "2023-03-27 17:14:09.723539: W tensorflow/core/lib/png/png_io.cc:88] PNG warning: iCCP: known incorrect sRGB profile\n"
     ]
    },
    {
     "name": "stdout",
     "output_type": "stream",
     "text": [
      "149/150 [============================>.] - ETA: 0s - loss: 3.7399 - accuracy: 0.1084"
     ]
    },
    {
     "name": "stderr",
     "output_type": "stream",
     "text": [
      "2023-03-27 17:14:13.467644: W tensorflow/core/lib/png/png_io.cc:88] PNG warning: iCCP: known incorrect sRGB profile\n",
      "2023-03-27 17:14:13.627367: W tensorflow/core/lib/png/png_io.cc:88] PNG warning: iCCP: known incorrect sRGB profile\n"
     ]
    },
    {
     "name": "stdout",
     "output_type": "stream",
     "text": [
      "150/150 [==============================] - 23s 154ms/step - loss: 3.7399 - accuracy: 0.1083 - val_loss: 413.6589 - val_accuracy: 0.0570\n",
      "Epoch 9/30\n",
      " 12/150 [=>............................] - ETA: 19s - loss: 3.7606 - accuracy: 0.1120"
     ]
    },
    {
     "name": "stderr",
     "output_type": "stream",
     "text": [
      "2023-03-27 17:14:17.368852: W tensorflow/core/lib/png/png_io.cc:88] PNG warning: iCCP: known incorrect sRGB profile\n"
     ]
    },
    {
     "name": "stdout",
     "output_type": "stream",
     "text": [
      " 73/150 [=============>................] - ETA: 10s - loss: 3.7187 - accuracy: 0.1164"
     ]
    },
    {
     "name": "stderr",
     "output_type": "stream",
     "text": [
      "2023-03-27 17:14:25.799141: W tensorflow/core/lib/png/png_io.cc:88] PNG warning: iCCP: known incorrect sRGB profile\n"
     ]
    },
    {
     "name": "stdout",
     "output_type": "stream",
     "text": [
      "105/150 [====================>.........] - ETA: 6s - loss: 3.7067 - accuracy: 0.1190"
     ]
    },
    {
     "name": "stderr",
     "output_type": "stream",
     "text": [
      "2023-03-27 17:14:30.140977: W tensorflow/core/lib/png/png_io.cc:88] PNG warning: iCCP: known incorrect sRGB profile\n"
     ]
    },
    {
     "name": "stdout",
     "output_type": "stream",
     "text": [
      "128/150 [========================>.....] - ETA: 3s - loss: 3.6890 - accuracy: 0.1199"
     ]
    },
    {
     "name": "stderr",
     "output_type": "stream",
     "text": [
      "2023-03-27 17:14:33.320061: W tensorflow/core/lib/png/png_io.cc:88] PNG warning: iCCP: known incorrect sRGB profile\n"
     ]
    },
    {
     "name": "stdout",
     "output_type": "stream",
     "text": [
      "149/150 [============================>.] - ETA: 0s - loss: 3.6851 - accuracy: 0.1200"
     ]
    },
    {
     "name": "stderr",
     "output_type": "stream",
     "text": [
      "2023-03-27 17:14:37.204658: W tensorflow/core/lib/png/png_io.cc:88] PNG warning: iCCP: known incorrect sRGB profile\n",
      "2023-03-27 17:14:37.356357: W tensorflow/core/lib/png/png_io.cc:88] PNG warning: iCCP: known incorrect sRGB profile\n"
     ]
    },
    {
     "name": "stdout",
     "output_type": "stream",
     "text": [
      "150/150 [==============================] - 24s 155ms/step - loss: 3.6854 - accuracy: 0.1198 - val_loss: 470.0860 - val_accuracy: 0.0578\n",
      "Epoch 10/30\n",
      " 12/150 [=>............................] - ETA: 19s - loss: 3.7503 - accuracy: 0.0990"
     ]
    },
    {
     "name": "stderr",
     "output_type": "stream",
     "text": [
      "2023-03-27 17:14:41.063180: W tensorflow/core/lib/png/png_io.cc:88] PNG warning: iCCP: known incorrect sRGB profile\n"
     ]
    },
    {
     "name": "stdout",
     "output_type": "stream",
     "text": [
      " 73/150 [=============>................] - ETA: 10s - loss: 3.6400 - accuracy: 0.1280"
     ]
    },
    {
     "name": "stderr",
     "output_type": "stream",
     "text": [
      "2023-03-27 17:14:49.486735: W tensorflow/core/lib/png/png_io.cc:88] PNG warning: iCCP: known incorrect sRGB profile\n"
     ]
    },
    {
     "name": "stdout",
     "output_type": "stream",
     "text": [
      "105/150 [====================>.........] - ETA: 6s - loss: 3.6440 - accuracy: 0.1304"
     ]
    },
    {
     "name": "stderr",
     "output_type": "stream",
     "text": [
      "2023-03-27 17:14:53.804344: W tensorflow/core/lib/png/png_io.cc:88] PNG warning: iCCP: known incorrect sRGB profile\n"
     ]
    },
    {
     "name": "stdout",
     "output_type": "stream",
     "text": [
      "128/150 [========================>.....] - ETA: 3s - loss: 3.6296 - accuracy: 0.1343"
     ]
    },
    {
     "name": "stderr",
     "output_type": "stream",
     "text": [
      "2023-03-27 17:14:56.941444: W tensorflow/core/lib/png/png_io.cc:88] PNG warning: iCCP: known incorrect sRGB profile\n"
     ]
    },
    {
     "name": "stdout",
     "output_type": "stream",
     "text": [
      "149/150 [============================>.] - ETA: 0s - loss: 3.6224 - accuracy: 0.1359"
     ]
    },
    {
     "name": "stderr",
     "output_type": "stream",
     "text": [
      "2023-03-27 17:15:00.715067: W tensorflow/core/lib/png/png_io.cc:88] PNG warning: iCCP: known incorrect sRGB profile\n",
      "2023-03-27 17:15:00.848312: W tensorflow/core/lib/png/png_io.cc:88] PNG warning: iCCP: known incorrect sRGB profile\n"
     ]
    },
    {
     "name": "stdout",
     "output_type": "stream",
     "text": [
      "150/150 [==============================] - 23s 154ms/step - loss: 3.6223 - accuracy: 0.1360 - val_loss: 423.6021 - val_accuracy: 0.0662\n",
      "Epoch 11/30\n",
      " 12/150 [=>............................] - ETA: 19s - loss: 3.6498 - accuracy: 0.0990"
     ]
    },
    {
     "name": "stderr",
     "output_type": "stream",
     "text": [
      "2023-03-27 17:15:04.541968: W tensorflow/core/lib/png/png_io.cc:88] PNG warning: iCCP: known incorrect sRGB profile\n"
     ]
    },
    {
     "name": "stdout",
     "output_type": "stream",
     "text": [
      " 73/150 [=============>................] - ETA: 10s - loss: 3.5699 - accuracy: 0.1331"
     ]
    },
    {
     "name": "stderr",
     "output_type": "stream",
     "text": [
      "2023-03-27 17:15:12.871013: W tensorflow/core/lib/png/png_io.cc:88] PNG warning: iCCP: known incorrect sRGB profile\n"
     ]
    },
    {
     "name": "stdout",
     "output_type": "stream",
     "text": [
      "103/150 [===================>..........] - ETA: 6s - loss: 3.5734 - accuracy: 0.1323"
     ]
    },
    {
     "name": "stderr",
     "output_type": "stream",
     "text": [
      "2023-03-27 17:15:17.139712: W tensorflow/core/lib/png/png_io.cc:88] PNG warning: iCCP: known incorrect sRGB profile\n"
     ]
    },
    {
     "name": "stdout",
     "output_type": "stream",
     "text": [
      "126/150 [========================>.....] - ETA: 3s - loss: 3.5638 - accuracy: 0.1349"
     ]
    },
    {
     "name": "stderr",
     "output_type": "stream",
     "text": [
      "2023-03-27 17:15:20.346062: W tensorflow/core/lib/png/png_io.cc:88] PNG warning: iCCP: known incorrect sRGB profile\n"
     ]
    },
    {
     "name": "stdout",
     "output_type": "stream",
     "text": [
      "149/150 [============================>.] - ETA: 0s - loss: 3.5583 - accuracy: 0.1363"
     ]
    },
    {
     "name": "stderr",
     "output_type": "stream",
     "text": [
      "2023-03-27 17:15:24.408246: W tensorflow/core/lib/png/png_io.cc:88] PNG warning: iCCP: known incorrect sRGB profile\n",
      "2023-03-27 17:15:24.560128: W tensorflow/core/lib/png/png_io.cc:88] PNG warning: iCCP: known incorrect sRGB profile\n"
     ]
    },
    {
     "name": "stdout",
     "output_type": "stream",
     "text": [
      "150/150 [==============================] - 24s 156ms/step - loss: 3.5581 - accuracy: 0.1364 - val_loss: 460.3396 - val_accuracy: 0.0696\n",
      "Epoch 12/30\n",
      " 12/150 [=>............................] - ETA: 20s - loss: 3.5896 - accuracy: 0.1458"
     ]
    },
    {
     "name": "stderr",
     "output_type": "stream",
     "text": [
      "2023-03-27 17:15:28.402755: W tensorflow/core/lib/png/png_io.cc:88] PNG warning: iCCP: known incorrect sRGB profile\n"
     ]
    },
    {
     "name": "stdout",
     "output_type": "stream",
     "text": [
      " 73/150 [=============>................] - ETA: 10s - loss: 3.5399 - accuracy: 0.1481"
     ]
    },
    {
     "name": "stderr",
     "output_type": "stream",
     "text": [
      "2023-03-27 17:15:36.825991: W tensorflow/core/lib/png/png_io.cc:88] PNG warning: iCCP: known incorrect sRGB profile\n"
     ]
    },
    {
     "name": "stdout",
     "output_type": "stream",
     "text": [
      "103/150 [===================>..........] - ETA: 6s - loss: 3.5282 - accuracy: 0.1496"
     ]
    },
    {
     "name": "stderr",
     "output_type": "stream",
     "text": [
      "2023-03-27 17:15:40.873626: W tensorflow/core/lib/png/png_io.cc:88] PNG warning: iCCP: known incorrect sRGB profile\n"
     ]
    },
    {
     "name": "stdout",
     "output_type": "stream",
     "text": [
      "125/150 [========================>.....] - ETA: 3s - loss: 3.5135 - accuracy: 0.1548"
     ]
    },
    {
     "name": "stderr",
     "output_type": "stream",
     "text": [
      "2023-03-27 17:15:44.019614: W tensorflow/core/lib/png/png_io.cc:88] PNG warning: iCCP: known incorrect sRGB profile\n"
     ]
    },
    {
     "name": "stdout",
     "output_type": "stream",
     "text": [
      "149/150 [============================>.] - ETA: 0s - loss: 3.5063 - accuracy: 0.1556"
     ]
    },
    {
     "name": "stderr",
     "output_type": "stream",
     "text": [
      "2023-03-27 17:15:48.085205: W tensorflow/core/lib/png/png_io.cc:88] PNG warning: iCCP: known incorrect sRGB profile\n",
      "2023-03-27 17:15:48.233082: W tensorflow/core/lib/png/png_io.cc:88] PNG warning: iCCP: known incorrect sRGB profile\n"
     ]
    },
    {
     "name": "stdout",
     "output_type": "stream",
     "text": [
      "150/150 [==============================] - 24s 156ms/step - loss: 3.5070 - accuracy: 0.1555 - val_loss: 388.4357 - val_accuracy: 0.0805\n",
      "Epoch 13/30\n",
      " 11/150 [=>............................] - ETA: 20s - loss: 3.6219 - accuracy: 0.1335"
     ]
    },
    {
     "name": "stderr",
     "output_type": "stream",
     "text": [
      "2023-03-27 17:15:52.172525: W tensorflow/core/lib/png/png_io.cc:88] PNG warning: iCCP: known incorrect sRGB profile\n"
     ]
    },
    {
     "name": "stdout",
     "output_type": "stream",
     "text": [
      " 73/150 [=============>................] - ETA: 10s - loss: 3.4982 - accuracy: 0.1610"
     ]
    },
    {
     "name": "stderr",
     "output_type": "stream",
     "text": [
      "2023-03-27 17:16:00.644265: W tensorflow/core/lib/png/png_io.cc:88] PNG warning: iCCP: known incorrect sRGB profile\n"
     ]
    },
    {
     "name": "stdout",
     "output_type": "stream",
     "text": [
      "105/150 [====================>.........] - ETA: 6s - loss: 3.4892 - accuracy: 0.1604"
     ]
    },
    {
     "name": "stderr",
     "output_type": "stream",
     "text": [
      "2023-03-27 17:16:05.060776: W tensorflow/core/lib/png/png_io.cc:88] PNG warning: iCCP: known incorrect sRGB profile\n"
     ]
    },
    {
     "name": "stdout",
     "output_type": "stream",
     "text": [
      "128/150 [========================>.....] - ETA: 3s - loss: 3.4819 - accuracy: 0.1626"
     ]
    },
    {
     "name": "stderr",
     "output_type": "stream",
     "text": [
      "2023-03-27 17:16:08.190434: W tensorflow/core/lib/png/png_io.cc:88] PNG warning: iCCP: known incorrect sRGB profile\n"
     ]
    },
    {
     "name": "stdout",
     "output_type": "stream",
     "text": [
      "149/150 [============================>.] - ETA: 0s - loss: 3.4722 - accuracy: 0.1638"
     ]
    },
    {
     "name": "stderr",
     "output_type": "stream",
     "text": [
      "2023-03-27 17:16:11.897801: W tensorflow/core/lib/png/png_io.cc:88] PNG warning: iCCP: known incorrect sRGB profile\n",
      "2023-03-27 17:16:12.030497: W tensorflow/core/lib/png/png_io.cc:88] PNG warning: iCCP: known incorrect sRGB profile\n"
     ]
    },
    {
     "name": "stdout",
     "output_type": "stream",
     "text": [
      "150/150 [==============================] - 24s 156ms/step - loss: 3.4713 - accuracy: 0.1638 - val_loss: 521.0921 - val_accuracy: 0.0696\n",
      "Epoch 14/30\n",
      " 12/150 [=>............................] - ETA: 19s - loss: 3.4735 - accuracy: 0.1771"
     ]
    },
    {
     "name": "stderr",
     "output_type": "stream",
     "text": [
      "2023-03-27 17:16:15.877110: W tensorflow/core/lib/png/png_io.cc:88] PNG warning: iCCP: known incorrect sRGB profile\n"
     ]
    },
    {
     "name": "stdout",
     "output_type": "stream",
     "text": [
      " 73/150 [=============>................] - ETA: 10s - loss: 3.4733 - accuracy: 0.1618"
     ]
    },
    {
     "name": "stderr",
     "output_type": "stream",
     "text": [
      "2023-03-27 17:16:24.294628: W tensorflow/core/lib/png/png_io.cc:88] PNG warning: iCCP: known incorrect sRGB profile\n"
     ]
    },
    {
     "name": "stdout",
     "output_type": "stream",
     "text": [
      "103/150 [===================>..........] - ETA: 6s - loss: 3.4363 - accuracy: 0.1675"
     ]
    },
    {
     "name": "stderr",
     "output_type": "stream",
     "text": [
      "2023-03-27 17:16:28.439748: W tensorflow/core/lib/png/png_io.cc:88] PNG warning: iCCP: known incorrect sRGB profile\n"
     ]
    },
    {
     "name": "stdout",
     "output_type": "stream",
     "text": [
      "126/150 [========================>.....] - ETA: 3s - loss: 3.4263 - accuracy: 0.1711"
     ]
    },
    {
     "name": "stderr",
     "output_type": "stream",
     "text": [
      "2023-03-27 17:16:31.597901: W tensorflow/core/lib/png/png_io.cc:88] PNG warning: iCCP: known incorrect sRGB profile\n"
     ]
    },
    {
     "name": "stdout",
     "output_type": "stream",
     "text": [
      "149/150 [============================>.] - ETA: 0s - loss: 3.4099 - accuracy: 0.1732"
     ]
    },
    {
     "name": "stderr",
     "output_type": "stream",
     "text": [
      "2023-03-27 17:16:35.624264: W tensorflow/core/lib/png/png_io.cc:88] PNG warning: iCCP: known incorrect sRGB profile\n",
      "2023-03-27 17:16:35.761212: W tensorflow/core/lib/png/png_io.cc:88] PNG warning: iCCP: known incorrect sRGB profile\n"
     ]
    },
    {
     "name": "stdout",
     "output_type": "stream",
     "text": [
      "150/150 [==============================] - 24s 155ms/step - loss: 3.4099 - accuracy: 0.1733 - val_loss: 476.5616 - val_accuracy: 0.0855\n",
      "Epoch 15/30\n",
      " 12/150 [=>............................] - ETA: 18s - loss: 3.3682 - accuracy: 0.2057"
     ]
    },
    {
     "name": "stderr",
     "output_type": "stream",
     "text": [
      "2023-03-27 17:16:39.473390: W tensorflow/core/lib/png/png_io.cc:88] PNG warning: iCCP: known incorrect sRGB profile\n"
     ]
    },
    {
     "name": "stdout",
     "output_type": "stream",
     "text": [
      " 73/150 [=============>................] - ETA: 10s - loss: 3.3946 - accuracy: 0.1781"
     ]
    },
    {
     "name": "stderr",
     "output_type": "stream",
     "text": [
      "2023-03-27 17:16:47.942635: W tensorflow/core/lib/png/png_io.cc:88] PNG warning: iCCP: known incorrect sRGB profile\n"
     ]
    },
    {
     "name": "stdout",
     "output_type": "stream",
     "text": [
      "105/150 [====================>.........] - ETA: 6s - loss: 3.3740 - accuracy: 0.1815"
     ]
    },
    {
     "name": "stderr",
     "output_type": "stream",
     "text": [
      "2023-03-27 17:16:52.274434: W tensorflow/core/lib/png/png_io.cc:88] PNG warning: iCCP: known incorrect sRGB profile\n"
     ]
    },
    {
     "name": "stdout",
     "output_type": "stream",
     "text": [
      "128/150 [========================>.....] - ETA: 3s - loss: 3.3489 - accuracy: 0.1885"
     ]
    },
    {
     "name": "stderr",
     "output_type": "stream",
     "text": [
      "2023-03-27 17:16:55.428221: W tensorflow/core/lib/png/png_io.cc:88] PNG warning: iCCP: known incorrect sRGB profile\n"
     ]
    },
    {
     "name": "stdout",
     "output_type": "stream",
     "text": [
      "149/150 [============================>.] - ETA: 0s - loss: 3.3528 - accuracy: 0.1900"
     ]
    },
    {
     "name": "stderr",
     "output_type": "stream",
     "text": [
      "2023-03-27 17:16:59.234096: W tensorflow/core/lib/png/png_io.cc:88] PNG warning: iCCP: known incorrect sRGB profile\n",
      "2023-03-27 17:16:59.409137: W tensorflow/core/lib/png/png_io.cc:88] PNG warning: iCCP: known incorrect sRGB profile\n"
     ]
    },
    {
     "name": "stdout",
     "output_type": "stream",
     "text": [
      "150/150 [==============================] - 24s 155ms/step - loss: 3.3507 - accuracy: 0.1904 - val_loss: 459.1254 - val_accuracy: 0.0796\n",
      "Epoch 16/30\n",
      " 12/150 [=>............................] - ETA: 19s - loss: 3.3487 - accuracy: 0.1823"
     ]
    },
    {
     "name": "stderr",
     "output_type": "stream",
     "text": [
      "2023-03-27 17:17:03.105212: W tensorflow/core/lib/png/png_io.cc:88] PNG warning: iCCP: known incorrect sRGB profile\n"
     ]
    },
    {
     "name": "stdout",
     "output_type": "stream",
     "text": [
      " 73/150 [=============>................] - ETA: 10s - loss: 3.3548 - accuracy: 0.1905"
     ]
    },
    {
     "name": "stderr",
     "output_type": "stream",
     "text": [
      "2023-03-27 17:17:11.501614: W tensorflow/core/lib/png/png_io.cc:88] PNG warning: iCCP: known incorrect sRGB profile\n"
     ]
    },
    {
     "name": "stdout",
     "output_type": "stream",
     "text": [
      "103/150 [===================>..........] - ETA: 6s - loss: 3.3203 - accuracy: 0.1945"
     ]
    },
    {
     "name": "stderr",
     "output_type": "stream",
     "text": [
      "2023-03-27 17:17:15.605252: W tensorflow/core/lib/png/png_io.cc:88] PNG warning: iCCP: known incorrect sRGB profile\n"
     ]
    },
    {
     "name": "stdout",
     "output_type": "stream",
     "text": [
      "126/150 [========================>.....] - ETA: 3s - loss: 3.3111 - accuracy: 0.1974"
     ]
    },
    {
     "name": "stderr",
     "output_type": "stream",
     "text": [
      "2023-03-27 17:17:18.714271: W tensorflow/core/lib/png/png_io.cc:88] PNG warning: iCCP: known incorrect sRGB profile\n"
     ]
    },
    {
     "name": "stdout",
     "output_type": "stream",
     "text": [
      "149/150 [============================>.] - ETA: 0s - loss: 3.3097 - accuracy: 0.1963"
     ]
    },
    {
     "name": "stderr",
     "output_type": "stream",
     "text": [
      "2023-03-27 17:17:22.779964: W tensorflow/core/lib/png/png_io.cc:88] PNG warning: iCCP: known incorrect sRGB profile\n",
      "2023-03-27 17:17:22.918872: W tensorflow/core/lib/png/png_io.cc:88] PNG warning: iCCP: known incorrect sRGB profile\n"
     ]
    },
    {
     "name": "stdout",
     "output_type": "stream",
     "text": [
      "150/150 [==============================] - 24s 155ms/step - loss: 3.3092 - accuracy: 0.1965 - val_loss: 425.1821 - val_accuracy: 0.0847\n",
      "Epoch 17/30\n",
      " 12/150 [=>............................] - ETA: 19s - loss: 3.2787 - accuracy: 0.2083"
     ]
    },
    {
     "name": "stderr",
     "output_type": "stream",
     "text": [
      "2023-03-27 17:17:26.749808: W tensorflow/core/lib/png/png_io.cc:88] PNG warning: iCCP: known incorrect sRGB profile\n"
     ]
    },
    {
     "name": "stdout",
     "output_type": "stream",
     "text": [
      " 73/150 [=============>................] - ETA: 10s - loss: 3.2740 - accuracy: 0.2059"
     ]
    },
    {
     "name": "stderr",
     "output_type": "stream",
     "text": [
      "2023-03-27 17:17:35.198512: W tensorflow/core/lib/png/png_io.cc:88] PNG warning: iCCP: known incorrect sRGB profile\n"
     ]
    },
    {
     "name": "stdout",
     "output_type": "stream",
     "text": [
      "105/150 [====================>.........] - ETA: 6s - loss: 3.2691 - accuracy: 0.2062"
     ]
    },
    {
     "name": "stderr",
     "output_type": "stream",
     "text": [
      "2023-03-27 17:17:39.533213: W tensorflow/core/lib/png/png_io.cc:88] PNG warning: iCCP: known incorrect sRGB profile\n"
     ]
    },
    {
     "name": "stdout",
     "output_type": "stream",
     "text": [
      "128/150 [========================>.....] - ETA: 3s - loss: 3.2524 - accuracy: 0.2090"
     ]
    },
    {
     "name": "stderr",
     "output_type": "stream",
     "text": [
      "2023-03-27 17:17:42.687696: W tensorflow/core/lib/png/png_io.cc:88] PNG warning: iCCP: known incorrect sRGB profile\n"
     ]
    },
    {
     "name": "stdout",
     "output_type": "stream",
     "text": [
      "149/150 [============================>.] - ETA: 0s - loss: 3.2423 - accuracy: 0.2104"
     ]
    },
    {
     "name": "stderr",
     "output_type": "stream",
     "text": [
      "2023-03-27 17:17:46.617768: W tensorflow/core/lib/png/png_io.cc:88] PNG warning: iCCP: known incorrect sRGB profile\n",
      "2023-03-27 17:17:46.765435: W tensorflow/core/lib/png/png_io.cc:88] PNG warning: iCCP: known incorrect sRGB profile\n"
     ]
    },
    {
     "name": "stdout",
     "output_type": "stream",
     "text": [
      "150/150 [==============================] - 24s 156ms/step - loss: 3.2423 - accuracy: 0.2103 - val_loss: 430.4554 - val_accuracy: 0.0930\n",
      "Epoch 18/30\n",
      " 12/150 [=>............................] - ETA: 19s - loss: 3.3814 - accuracy: 0.1615"
     ]
    },
    {
     "name": "stderr",
     "output_type": "stream",
     "text": [
      "2023-03-27 17:17:50.526979: W tensorflow/core/lib/png/png_io.cc:88] PNG warning: iCCP: known incorrect sRGB profile\n"
     ]
    },
    {
     "name": "stdout",
     "output_type": "stream",
     "text": [
      " 73/150 [=============>................] - ETA: 10s - loss: 3.2454 - accuracy: 0.2029"
     ]
    },
    {
     "name": "stderr",
     "output_type": "stream",
     "text": [
      "2023-03-27 17:17:58.901313: W tensorflow/core/lib/png/png_io.cc:88] PNG warning: iCCP: known incorrect sRGB profile\n"
     ]
    },
    {
     "name": "stdout",
     "output_type": "stream",
     "text": [
      "103/150 [===================>..........] - ETA: 6s - loss: 3.2111 - accuracy: 0.2133"
     ]
    },
    {
     "name": "stderr",
     "output_type": "stream",
     "text": [
      "2023-03-27 17:18:03.073450: W tensorflow/core/lib/png/png_io.cc:88] PNG warning: iCCP: known incorrect sRGB profile\n"
     ]
    },
    {
     "name": "stdout",
     "output_type": "stream",
     "text": [
      "126/150 [========================>.....] - ETA: 3s - loss: 3.1992 - accuracy: 0.2153"
     ]
    },
    {
     "name": "stderr",
     "output_type": "stream",
     "text": [
      "2023-03-27 17:18:06.146024: W tensorflow/core/lib/png/png_io.cc:88] PNG warning: iCCP: known incorrect sRGB profile\n"
     ]
    },
    {
     "name": "stdout",
     "output_type": "stream",
     "text": [
      "149/150 [============================>.] - ETA: 0s - loss: 3.1967 - accuracy: 0.2167"
     ]
    },
    {
     "name": "stderr",
     "output_type": "stream",
     "text": [
      "2023-03-27 17:18:10.365905: W tensorflow/core/lib/png/png_io.cc:88] PNG warning: iCCP: known incorrect sRGB profile\n",
      "2023-03-27 17:18:10.534080: W tensorflow/core/lib/png/png_io.cc:88] PNG warning: iCCP: known incorrect sRGB profile\n"
     ]
    },
    {
     "name": "stdout",
     "output_type": "stream",
     "text": [
      "150/150 [==============================] - 24s 156ms/step - loss: 3.1973 - accuracy: 0.2164 - val_loss: 443.9094 - val_accuracy: 0.0930\n",
      "Epoch 19/30\n",
      " 12/150 [=>............................] - ETA: 19s - loss: 3.1995 - accuracy: 0.1953"
     ]
    },
    {
     "name": "stderr",
     "output_type": "stream",
     "text": [
      "2023-03-27 17:18:14.291221: W tensorflow/core/lib/png/png_io.cc:88] PNG warning: iCCP: known incorrect sRGB profile\n"
     ]
    },
    {
     "name": "stdout",
     "output_type": "stream",
     "text": [
      " 73/150 [=============>................] - ETA: 10s - loss: 3.1830 - accuracy: 0.2132"
     ]
    },
    {
     "name": "stderr",
     "output_type": "stream",
     "text": [
      "2023-03-27 17:18:22.661992: W tensorflow/core/lib/png/png_io.cc:88] PNG warning: iCCP: known incorrect sRGB profile\n"
     ]
    },
    {
     "name": "stdout",
     "output_type": "stream",
     "text": [
      "103/150 [===================>..........] - ETA: 6s - loss: 3.1720 - accuracy: 0.2218"
     ]
    },
    {
     "name": "stderr",
     "output_type": "stream",
     "text": [
      "2023-03-27 17:18:26.927288: W tensorflow/core/lib/png/png_io.cc:88] PNG warning: iCCP: known incorrect sRGB profile\n"
     ]
    },
    {
     "name": "stdout",
     "output_type": "stream",
     "text": [
      "126/150 [========================>.....] - ETA: 3s - loss: 3.1495 - accuracy: 0.2252"
     ]
    },
    {
     "name": "stderr",
     "output_type": "stream",
     "text": [
      "2023-03-27 17:18:30.091826: W tensorflow/core/lib/png/png_io.cc:88] PNG warning: iCCP: known incorrect sRGB profile\n"
     ]
    },
    {
     "name": "stdout",
     "output_type": "stream",
     "text": [
      "149/150 [============================>.] - ETA: 0s - loss: 3.1509 - accuracy: 0.2273"
     ]
    },
    {
     "name": "stderr",
     "output_type": "stream",
     "text": [
      "2023-03-27 17:18:34.180090: W tensorflow/core/lib/png/png_io.cc:88] PNG warning: iCCP: known incorrect sRGB profile\n",
      "2023-03-27 17:18:34.345603: W tensorflow/core/lib/png/png_io.cc:88] PNG warning: iCCP: known incorrect sRGB profile\n"
     ]
    },
    {
     "name": "stdout",
     "output_type": "stream",
     "text": [
      "150/150 [==============================] - 24s 157ms/step - loss: 3.1505 - accuracy: 0.2273 - val_loss: 519.2775 - val_accuracy: 0.0897\n",
      "Epoch 20/30\n",
      " 12/150 [=>............................] - ETA: 19s - loss: 3.1960 - accuracy: 0.1875"
     ]
    },
    {
     "name": "stderr",
     "output_type": "stream",
     "text": [
      "2023-03-27 17:18:38.165107: W tensorflow/core/lib/png/png_io.cc:88] PNG warning: iCCP: known incorrect sRGB profile\n"
     ]
    },
    {
     "name": "stdout",
     "output_type": "stream",
     "text": [
      " 73/150 [=============>................] - ETA: 10s - loss: 3.1740 - accuracy: 0.2162"
     ]
    },
    {
     "name": "stderr",
     "output_type": "stream",
     "text": [
      "2023-03-27 17:18:46.668221: W tensorflow/core/lib/png/png_io.cc:88] PNG warning: iCCP: known incorrect sRGB profile\n"
     ]
    },
    {
     "name": "stdout",
     "output_type": "stream",
     "text": [
      "103/150 [===================>..........] - ETA: 6s - loss: 3.1426 - accuracy: 0.2221"
     ]
    },
    {
     "name": "stderr",
     "output_type": "stream",
     "text": [
      "2023-03-27 17:18:50.838210: W tensorflow/core/lib/png/png_io.cc:88] PNG warning: iCCP: known incorrect sRGB profile\n"
     ]
    },
    {
     "name": "stdout",
     "output_type": "stream",
     "text": [
      "126/150 [========================>.....] - ETA: 3s - loss: 3.1134 - accuracy: 0.2299"
     ]
    },
    {
     "name": "stderr",
     "output_type": "stream",
     "text": [
      "2023-03-27 17:18:53.971361: W tensorflow/core/lib/png/png_io.cc:88] PNG warning: iCCP: known incorrect sRGB profile\n"
     ]
    },
    {
     "name": "stdout",
     "output_type": "stream",
     "text": [
      "149/150 [============================>.] - ETA: 0s - loss: 3.1056 - accuracy: 0.2313"
     ]
    },
    {
     "name": "stderr",
     "output_type": "stream",
     "text": [
      "2023-03-27 17:18:58.055277: W tensorflow/core/lib/png/png_io.cc:88] PNG warning: iCCP: known incorrect sRGB profile\n",
      "2023-03-27 17:18:58.211493: W tensorflow/core/lib/png/png_io.cc:88] PNG warning: iCCP: known incorrect sRGB profile\n"
     ]
    },
    {
     "name": "stdout",
     "output_type": "stream",
     "text": [
      "150/150 [==============================] - 24s 155ms/step - loss: 3.1059 - accuracy: 0.2313 - val_loss: 458.0260 - val_accuracy: 0.0813\n",
      "Epoch 21/30\n",
      " 12/150 [=>............................] - ETA: 19s - loss: 3.0786 - accuracy: 0.2682"
     ]
    },
    {
     "name": "stderr",
     "output_type": "stream",
     "text": [
      "2023-03-27 17:19:01.908527: W tensorflow/core/lib/png/png_io.cc:88] PNG warning: iCCP: known incorrect sRGB profile\n"
     ]
    },
    {
     "name": "stdout",
     "output_type": "stream",
     "text": [
      " 73/150 [=============>................] - ETA: 10s - loss: 3.0675 - accuracy: 0.2436"
     ]
    },
    {
     "name": "stderr",
     "output_type": "stream",
     "text": [
      "2023-03-27 17:19:10.500895: W tensorflow/core/lib/png/png_io.cc:88] PNG warning: iCCP: known incorrect sRGB profile\n"
     ]
    },
    {
     "name": "stdout",
     "output_type": "stream",
     "text": [
      "103/150 [===================>..........] - ETA: 6s - loss: 3.0393 - accuracy: 0.2464"
     ]
    },
    {
     "name": "stderr",
     "output_type": "stream",
     "text": [
      "2023-03-27 17:19:14.632026: W tensorflow/core/lib/png/png_io.cc:88] PNG warning: iCCP: known incorrect sRGB profile\n"
     ]
    },
    {
     "name": "stdout",
     "output_type": "stream",
     "text": [
      "126/150 [========================>.....] - ETA: 3s - loss: 3.0262 - accuracy: 0.2512"
     ]
    },
    {
     "name": "stderr",
     "output_type": "stream",
     "text": [
      "2023-03-27 17:19:17.849680: W tensorflow/core/lib/png/png_io.cc:88] PNG warning: iCCP: known incorrect sRGB profile\n"
     ]
    },
    {
     "name": "stdout",
     "output_type": "stream",
     "text": [
      "149/150 [============================>.] - ETA: 0s - loss: 3.0309 - accuracy: 0.2521"
     ]
    },
    {
     "name": "stderr",
     "output_type": "stream",
     "text": [
      "2023-03-27 17:19:21.866256: W tensorflow/core/lib/png/png_io.cc:88] PNG warning: iCCP: known incorrect sRGB profile\n",
      "2023-03-27 17:19:22.037997: W tensorflow/core/lib/png/png_io.cc:88] PNG warning: iCCP: known incorrect sRGB profile\n"
     ]
    },
    {
     "name": "stdout",
     "output_type": "stream",
     "text": [
      "150/150 [==============================] - 24s 158ms/step - loss: 3.0297 - accuracy: 0.2525 - val_loss: 529.9196 - val_accuracy: 0.0830\n",
      "Epoch 22/30\n",
      " 12/150 [=>............................] - ETA: 18s - loss: 3.0909 - accuracy: 0.2448"
     ]
    },
    {
     "name": "stderr",
     "output_type": "stream",
     "text": [
      "2023-03-27 17:19:25.966840: W tensorflow/core/lib/png/png_io.cc:88] PNG warning: iCCP: known incorrect sRGB profile\n"
     ]
    },
    {
     "name": "stdout",
     "output_type": "stream",
     "text": [
      " 73/150 [=============>................] - ETA: 10s - loss: 3.0734 - accuracy: 0.2410"
     ]
    },
    {
     "name": "stderr",
     "output_type": "stream",
     "text": [
      "2023-03-27 17:19:34.435028: W tensorflow/core/lib/png/png_io.cc:88] PNG warning: iCCP: known incorrect sRGB profile\n"
     ]
    },
    {
     "name": "stdout",
     "output_type": "stream",
     "text": [
      "103/150 [===================>..........] - ETA: 6s - loss: 3.0321 - accuracy: 0.2500"
     ]
    },
    {
     "name": "stderr",
     "output_type": "stream",
     "text": [
      "2023-03-27 17:19:38.513944: W tensorflow/core/lib/png/png_io.cc:88] PNG warning: iCCP: known incorrect sRGB profile\n"
     ]
    },
    {
     "name": "stdout",
     "output_type": "stream",
     "text": [
      "126/150 [========================>.....] - ETA: 3s - loss: 3.0213 - accuracy: 0.2530"
     ]
    },
    {
     "name": "stderr",
     "output_type": "stream",
     "text": [
      "2023-03-27 17:19:41.586105: W tensorflow/core/lib/png/png_io.cc:88] PNG warning: iCCP: known incorrect sRGB profile\n"
     ]
    },
    {
     "name": "stdout",
     "output_type": "stream",
     "text": [
      "149/150 [============================>.] - ETA: 0s - loss: 2.9972 - accuracy: 0.2584"
     ]
    },
    {
     "name": "stderr",
     "output_type": "stream",
     "text": [
      "2023-03-27 17:19:45.751449: W tensorflow/core/lib/png/png_io.cc:88] PNG warning: iCCP: known incorrect sRGB profile\n",
      "2023-03-27 17:19:45.910838: W tensorflow/core/lib/png/png_io.cc:88] PNG warning: iCCP: known incorrect sRGB profile\n"
     ]
    },
    {
     "name": "stdout",
     "output_type": "stream",
     "text": [
      "150/150 [==============================] - 24s 156ms/step - loss: 2.9968 - accuracy: 0.2585 - val_loss: 494.6028 - val_accuracy: 0.1023\n",
      "Epoch 23/30\n",
      " 12/150 [=>............................] - ETA: 19s - loss: 2.9875 - accuracy: 0.2734"
     ]
    },
    {
     "name": "stderr",
     "output_type": "stream",
     "text": [
      "2023-03-27 17:19:49.775436: W tensorflow/core/lib/png/png_io.cc:88] PNG warning: iCCP: known incorrect sRGB profile\n"
     ]
    },
    {
     "name": "stdout",
     "output_type": "stream",
     "text": [
      " 73/150 [=============>................] - ETA: 10s - loss: 3.0097 - accuracy: 0.2491"
     ]
    },
    {
     "name": "stderr",
     "output_type": "stream",
     "text": [
      "2023-03-27 17:19:58.380658: W tensorflow/core/lib/png/png_io.cc:88] PNG warning: iCCP: known incorrect sRGB profile\n"
     ]
    },
    {
     "name": "stdout",
     "output_type": "stream",
     "text": [
      "103/150 [===================>..........] - ETA: 6s - loss: 2.9728 - accuracy: 0.2591"
     ]
    },
    {
     "name": "stderr",
     "output_type": "stream",
     "text": [
      "2023-03-27 17:20:02.543297: W tensorflow/core/lib/png/png_io.cc:88] PNG warning: iCCP: known incorrect sRGB profile\n"
     ]
    },
    {
     "name": "stdout",
     "output_type": "stream",
     "text": [
      "126/150 [========================>.....] - ETA: 3s - loss: 2.9648 - accuracy: 0.2617"
     ]
    },
    {
     "name": "stderr",
     "output_type": "stream",
     "text": [
      "2023-03-27 17:20:05.681770: W tensorflow/core/lib/png/png_io.cc:88] PNG warning: iCCP: known incorrect sRGB profile\n"
     ]
    },
    {
     "name": "stdout",
     "output_type": "stream",
     "text": [
      "149/150 [============================>.] - ETA: 0s - loss: 2.9635 - accuracy: 0.2632"
     ]
    },
    {
     "name": "stderr",
     "output_type": "stream",
     "text": [
      "2023-03-27 17:20:10.031412: W tensorflow/core/lib/png/png_io.cc:88] PNG warning: iCCP: known incorrect sRGB profile\n",
      "2023-03-27 17:20:10.236795: W tensorflow/core/lib/png/png_io.cc:88] PNG warning: iCCP: known incorrect sRGB profile\n"
     ]
    },
    {
     "name": "stdout",
     "output_type": "stream",
     "text": [
      "150/150 [==============================] - 24s 159ms/step - loss: 2.9645 - accuracy: 0.2631 - val_loss: 539.9583 - val_accuracy: 0.0872\n",
      "Epoch 24/30\n",
      " 12/150 [=>............................] - ETA: 20s - loss: 3.0248 - accuracy: 0.2526"
     ]
    },
    {
     "name": "stderr",
     "output_type": "stream",
     "text": [
      "2023-03-27 17:20:14.227724: W tensorflow/core/lib/png/png_io.cc:88] PNG warning: iCCP: known incorrect sRGB profile\n"
     ]
    },
    {
     "name": "stdout",
     "output_type": "stream",
     "text": [
      " 73/150 [=============>................] - ETA: 10s - loss: 3.0116 - accuracy: 0.2581"
     ]
    },
    {
     "name": "stderr",
     "output_type": "stream",
     "text": [
      "2023-03-27 17:20:22.671128: W tensorflow/core/lib/png/png_io.cc:88] PNG warning: iCCP: known incorrect sRGB profile\n"
     ]
    },
    {
     "name": "stdout",
     "output_type": "stream",
     "text": [
      "103/150 [===================>..........] - ETA: 6s - loss: 2.9540 - accuracy: 0.2652"
     ]
    },
    {
     "name": "stderr",
     "output_type": "stream",
     "text": [
      "2023-03-27 17:20:26.971999: W tensorflow/core/lib/png/png_io.cc:88] PNG warning: iCCP: known incorrect sRGB profile\n"
     ]
    },
    {
     "name": "stdout",
     "output_type": "stream",
     "text": [
      "126/150 [========================>.....] - ETA: 3s - loss: 2.9331 - accuracy: 0.2684"
     ]
    },
    {
     "name": "stderr",
     "output_type": "stream",
     "text": [
      "2023-03-27 17:20:30.257763: W tensorflow/core/lib/png/png_io.cc:88] PNG warning: iCCP: known incorrect sRGB profile\n"
     ]
    },
    {
     "name": "stdout",
     "output_type": "stream",
     "text": [
      "149/150 [============================>.] - ETA: 0s - loss: 2.9235 - accuracy: 0.2703"
     ]
    },
    {
     "name": "stderr",
     "output_type": "stream",
     "text": [
      "2023-03-27 17:20:34.528448: W tensorflow/core/lib/png/png_io.cc:88] PNG warning: iCCP: known incorrect sRGB profile\n",
      "2023-03-27 17:20:34.670525: W tensorflow/core/lib/png/png_io.cc:88] PNG warning: iCCP: known incorrect sRGB profile\n"
     ]
    },
    {
     "name": "stdout",
     "output_type": "stream",
     "text": [
      "150/150 [==============================] - 24s 159ms/step - loss: 2.9232 - accuracy: 0.2703 - val_loss: 541.8490 - val_accuracy: 0.0947\n",
      "Epoch 25/30\n",
      " 12/150 [=>............................] - ETA: 20s - loss: 3.0280 - accuracy: 0.2526"
     ]
    },
    {
     "name": "stderr",
     "output_type": "stream",
     "text": [
      "2023-03-27 17:20:38.607761: W tensorflow/core/lib/png/png_io.cc:88] PNG warning: iCCP: known incorrect sRGB profile\n"
     ]
    },
    {
     "name": "stdout",
     "output_type": "stream",
     "text": [
      " 73/150 [=============>................] - ETA: 10s - loss: 2.9100 - accuracy: 0.2757"
     ]
    },
    {
     "name": "stderr",
     "output_type": "stream",
     "text": [
      "2023-03-27 17:20:47.231552: W tensorflow/core/lib/png/png_io.cc:88] PNG warning: iCCP: known incorrect sRGB profile\n"
     ]
    },
    {
     "name": "stdout",
     "output_type": "stream",
     "text": [
      "105/150 [====================>.........] - ETA: 6s - loss: 2.8585 - accuracy: 0.2860"
     ]
    },
    {
     "name": "stderr",
     "output_type": "stream",
     "text": [
      "2023-03-27 17:20:51.454417: W tensorflow/core/lib/png/png_io.cc:88] PNG warning: iCCP: known incorrect sRGB profile\n"
     ]
    },
    {
     "name": "stdout",
     "output_type": "stream",
     "text": [
      "128/150 [========================>.....] - ETA: 3s - loss: 2.8552 - accuracy: 0.2874"
     ]
    },
    {
     "name": "stderr",
     "output_type": "stream",
     "text": [
      "2023-03-27 17:20:54.630870: W tensorflow/core/lib/png/png_io.cc:88] PNG warning: iCCP: known incorrect sRGB profile\n"
     ]
    },
    {
     "name": "stdout",
     "output_type": "stream",
     "text": [
      "149/150 [============================>.] - ETA: 0s - loss: 2.8447 - accuracy: 0.2880"
     ]
    },
    {
     "name": "stderr",
     "output_type": "stream",
     "text": [
      "2023-03-27 17:20:58.541864: W tensorflow/core/lib/png/png_io.cc:88] PNG warning: iCCP: known incorrect sRGB profile\n",
      "2023-03-27 17:20:58.726717: W tensorflow/core/lib/png/png_io.cc:88] PNG warning: iCCP: known incorrect sRGB profile\n"
     ]
    },
    {
     "name": "stdout",
     "output_type": "stream",
     "text": [
      "150/150 [==============================] - 24s 158ms/step - loss: 2.8445 - accuracy: 0.2883 - val_loss: 523.5348 - val_accuracy: 0.0997\n",
      "Epoch 26/30\n",
      " 12/150 [=>............................] - ETA: 19s - loss: 2.9189 - accuracy: 0.2604"
     ]
    },
    {
     "name": "stderr",
     "output_type": "stream",
     "text": [
      "2023-03-27 17:21:02.724905: W tensorflow/core/lib/png/png_io.cc:88] PNG warning: iCCP: known incorrect sRGB profile\n"
     ]
    },
    {
     "name": "stdout",
     "output_type": "stream",
     "text": [
      " 73/150 [=============>................] - ETA: 10s - loss: 2.8434 - accuracy: 0.2778"
     ]
    },
    {
     "name": "stderr",
     "output_type": "stream",
     "text": [
      "2023-03-27 17:21:11.319937: W tensorflow/core/lib/png/png_io.cc:88] PNG warning: iCCP: known incorrect sRGB profile\n"
     ]
    },
    {
     "name": "stdout",
     "output_type": "stream",
     "text": [
      "103/150 [===================>..........] - ETA: 6s - loss: 2.8251 - accuracy: 0.2788"
     ]
    },
    {
     "name": "stderr",
     "output_type": "stream",
     "text": [
      "2023-03-27 17:21:15.461875: W tensorflow/core/lib/png/png_io.cc:88] PNG warning: iCCP: known incorrect sRGB profile\n"
     ]
    },
    {
     "name": "stdout",
     "output_type": "stream",
     "text": [
      "126/150 [========================>.....] - ETA: 3s - loss: 2.8042 - accuracy: 0.2820"
     ]
    },
    {
     "name": "stderr",
     "output_type": "stream",
     "text": [
      "2023-03-27 17:21:18.646286: W tensorflow/core/lib/png/png_io.cc:88] PNG warning: iCCP: known incorrect sRGB profile\n"
     ]
    },
    {
     "name": "stdout",
     "output_type": "stream",
     "text": [
      "149/150 [============================>.] - ETA: 0s - loss: 2.8207 - accuracy: 0.2798"
     ]
    },
    {
     "name": "stderr",
     "output_type": "stream",
     "text": [
      "2023-03-27 17:21:22.611349: W tensorflow/core/lib/png/png_io.cc:88] PNG warning: iCCP: known incorrect sRGB profile\n",
      "2023-03-27 17:21:22.786727: W tensorflow/core/lib/png/png_io.cc:88] PNG warning: iCCP: known incorrect sRGB profile\n"
     ]
    },
    {
     "name": "stdout",
     "output_type": "stream",
     "text": [
      "150/150 [==============================] - 24s 158ms/step - loss: 2.8192 - accuracy: 0.2803 - val_loss: 580.8607 - val_accuracy: 0.0830\n",
      "Epoch 27/30\n",
      " 12/150 [=>............................] - ETA: 19s - loss: 2.9447 - accuracy: 0.2630"
     ]
    },
    {
     "name": "stderr",
     "output_type": "stream",
     "text": [
      "2023-03-27 17:21:26.856398: W tensorflow/core/lib/png/png_io.cc:88] PNG warning: iCCP: known incorrect sRGB profile\n"
     ]
    },
    {
     "name": "stdout",
     "output_type": "stream",
     "text": [
      " 73/150 [=============>................] - ETA: 10s - loss: 2.8000 - accuracy: 0.2958"
     ]
    },
    {
     "name": "stderr",
     "output_type": "stream",
     "text": [
      "2023-03-27 17:21:35.447060: W tensorflow/core/lib/png/png_io.cc:88] PNG warning: iCCP: known incorrect sRGB profile\n"
     ]
    },
    {
     "name": "stdout",
     "output_type": "stream",
     "text": [
      "105/150 [====================>.........] - ETA: 6s - loss: 2.7544 - accuracy: 0.3065"
     ]
    },
    {
     "name": "stderr",
     "output_type": "stream",
     "text": [
      "2023-03-27 17:21:39.886728: W tensorflow/core/lib/png/png_io.cc:88] PNG warning: iCCP: known incorrect sRGB profile\n"
     ]
    },
    {
     "name": "stdout",
     "output_type": "stream",
     "text": [
      "128/150 [========================>.....] - ETA: 3s - loss: 2.7658 - accuracy: 0.3027"
     ]
    },
    {
     "name": "stderr",
     "output_type": "stream",
     "text": [
      "2023-03-27 17:21:43.057420: W tensorflow/core/lib/png/png_io.cc:88] PNG warning: iCCP: known incorrect sRGB profile\n"
     ]
    },
    {
     "name": "stdout",
     "output_type": "stream",
     "text": [
      "149/150 [============================>.] - ETA: 0s - loss: 2.7522 - accuracy: 0.3083"
     ]
    },
    {
     "name": "stderr",
     "output_type": "stream",
     "text": [
      "2023-03-27 17:21:46.858688: W tensorflow/core/lib/png/png_io.cc:88] PNG warning: iCCP: known incorrect sRGB profile\n",
      "2023-03-27 17:21:47.001806: W tensorflow/core/lib/png/png_io.cc:88] PNG warning: iCCP: known incorrect sRGB profile\n"
     ]
    },
    {
     "name": "stdout",
     "output_type": "stream",
     "text": [
      "150/150 [==============================] - 24s 157ms/step - loss: 2.7531 - accuracy: 0.3080 - val_loss: 573.7959 - val_accuracy: 0.1006\n",
      "Epoch 28/30\n",
      " 12/150 [=>............................] - ETA: 19s - loss: 2.8329 - accuracy: 0.2760"
     ]
    },
    {
     "name": "stderr",
     "output_type": "stream",
     "text": [
      "2023-03-27 17:21:50.922096: W tensorflow/core/lib/png/png_io.cc:88] PNG warning: iCCP: known incorrect sRGB profile\n"
     ]
    },
    {
     "name": "stdout",
     "output_type": "stream",
     "text": [
      " 73/150 [=============>................] - ETA: 10s - loss: 2.7938 - accuracy: 0.2975"
     ]
    },
    {
     "name": "stderr",
     "output_type": "stream",
     "text": [
      "2023-03-27 17:21:59.420286: W tensorflow/core/lib/png/png_io.cc:88] PNG warning: iCCP: known incorrect sRGB profile\n"
     ]
    },
    {
     "name": "stdout",
     "output_type": "stream",
     "text": [
      "103/150 [===================>..........] - ETA: 6s - loss: 2.7840 - accuracy: 0.3016"
     ]
    },
    {
     "name": "stderr",
     "output_type": "stream",
     "text": [
      "2023-03-27 17:22:03.615424: W tensorflow/core/lib/png/png_io.cc:88] PNG warning: iCCP: known incorrect sRGB profile\n"
     ]
    },
    {
     "name": "stdout",
     "output_type": "stream",
     "text": [
      "126/150 [========================>.....] - ETA: 3s - loss: 2.7604 - accuracy: 0.3046"
     ]
    },
    {
     "name": "stderr",
     "output_type": "stream",
     "text": [
      "2023-03-27 17:22:06.767618: W tensorflow/core/lib/png/png_io.cc:88] PNG warning: iCCP: known incorrect sRGB profile\n"
     ]
    },
    {
     "name": "stdout",
     "output_type": "stream",
     "text": [
      "149/150 [============================>.] - ETA: 0s - loss: 2.7618 - accuracy: 0.3035"
     ]
    },
    {
     "name": "stderr",
     "output_type": "stream",
     "text": [
      "2023-03-27 17:22:10.888304: W tensorflow/core/lib/png/png_io.cc:88] PNG warning: iCCP: known incorrect sRGB profile\n",
      "2023-03-27 17:22:11.026196: W tensorflow/core/lib/png/png_io.cc:88] PNG warning: iCCP: known incorrect sRGB profile\n"
     ]
    },
    {
     "name": "stdout",
     "output_type": "stream",
     "text": [
      "150/150 [==============================] - 24s 157ms/step - loss: 2.7616 - accuracy: 0.3036 - val_loss: 489.8676 - val_accuracy: 0.1098\n",
      "Epoch 29/30\n",
      " 12/150 [=>............................] - ETA: 19s - loss: 2.9222 - accuracy: 0.2422"
     ]
    },
    {
     "name": "stderr",
     "output_type": "stream",
     "text": [
      "2023-03-27 17:22:14.852915: W tensorflow/core/lib/png/png_io.cc:88] PNG warning: iCCP: known incorrect sRGB profile\n"
     ]
    },
    {
     "name": "stdout",
     "output_type": "stream",
     "text": [
      " 73/150 [=============>................] - ETA: 10s - loss: 2.7641 - accuracy: 0.2937"
     ]
    },
    {
     "name": "stderr",
     "output_type": "stream",
     "text": [
      "2023-03-27 17:22:23.387169: W tensorflow/core/lib/png/png_io.cc:88] PNG warning: iCCP: known incorrect sRGB profile\n"
     ]
    },
    {
     "name": "stdout",
     "output_type": "stream",
     "text": [
      "103/150 [===================>..........] - ETA: 6s - loss: 2.6936 - accuracy: 0.3101"
     ]
    },
    {
     "name": "stderr",
     "output_type": "stream",
     "text": [
      "2023-03-27 17:22:27.547159: W tensorflow/core/lib/png/png_io.cc:88] PNG warning: iCCP: known incorrect sRGB profile\n"
     ]
    },
    {
     "name": "stdout",
     "output_type": "stream",
     "text": [
      "126/150 [========================>.....] - ETA: 3s - loss: 2.6760 - accuracy: 0.3135"
     ]
    },
    {
     "name": "stderr",
     "output_type": "stream",
     "text": [
      "2023-03-27 17:22:30.626391: W tensorflow/core/lib/png/png_io.cc:88] PNG warning: iCCP: known incorrect sRGB profile\n"
     ]
    },
    {
     "name": "stdout",
     "output_type": "stream",
     "text": [
      "149/150 [============================>.] - ETA: 0s - loss: 2.6731 - accuracy: 0.3135"
     ]
    },
    {
     "name": "stderr",
     "output_type": "stream",
     "text": [
      "2023-03-27 17:22:34.781711: W tensorflow/core/lib/png/png_io.cc:88] PNG warning: iCCP: known incorrect sRGB profile\n",
      "2023-03-27 17:22:34.925447: W tensorflow/core/lib/png/png_io.cc:88] PNG warning: iCCP: known incorrect sRGB profile\n"
     ]
    },
    {
     "name": "stdout",
     "output_type": "stream",
     "text": [
      "150/150 [==============================] - 24s 158ms/step - loss: 2.6746 - accuracy: 0.3136 - val_loss: 568.2863 - val_accuracy: 0.1073\n",
      "Epoch 30/30\n",
      " 12/150 [=>............................] - ETA: 20s - loss: 2.8087 - accuracy: 0.2943"
     ]
    },
    {
     "name": "stderr",
     "output_type": "stream",
     "text": [
      "2023-03-27 17:22:39.004165: W tensorflow/core/lib/png/png_io.cc:88] PNG warning: iCCP: known incorrect sRGB profile\n"
     ]
    },
    {
     "name": "stdout",
     "output_type": "stream",
     "text": [
      " 73/150 [=============>................] - ETA: 10s - loss: 2.7371 - accuracy: 0.3159"
     ]
    },
    {
     "name": "stderr",
     "output_type": "stream",
     "text": [
      "2023-03-27 17:22:47.658593: W tensorflow/core/lib/png/png_io.cc:88] PNG warning: iCCP: known incorrect sRGB profile\n"
     ]
    },
    {
     "name": "stdout",
     "output_type": "stream",
     "text": [
      "103/150 [===================>..........] - ETA: 6s - loss: 2.6815 - accuracy: 0.3255"
     ]
    },
    {
     "name": "stderr",
     "output_type": "stream",
     "text": [
      "2023-03-27 17:22:51.935560: W tensorflow/core/lib/png/png_io.cc:88] PNG warning: iCCP: known incorrect sRGB profile\n"
     ]
    },
    {
     "name": "stdout",
     "output_type": "stream",
     "text": [
      "126/150 [========================>.....] - ETA: 3s - loss: 2.6731 - accuracy: 0.3254"
     ]
    },
    {
     "name": "stderr",
     "output_type": "stream",
     "text": [
      "2023-03-27 17:22:55.323685: W tensorflow/core/lib/png/png_io.cc:88] PNG warning: iCCP: known incorrect sRGB profile\n"
     ]
    },
    {
     "name": "stdout",
     "output_type": "stream",
     "text": [
      "149/150 [============================>.] - ETA: 0s - loss: 2.6559 - accuracy: 0.3270"
     ]
    },
    {
     "name": "stderr",
     "output_type": "stream",
     "text": [
      "2023-03-27 17:22:59.439741: W tensorflow/core/lib/png/png_io.cc:88] PNG warning: iCCP: known incorrect sRGB profile\n",
      "2023-03-27 17:22:59.577560: W tensorflow/core/lib/png/png_io.cc:88] PNG warning: iCCP: known incorrect sRGB profile\n"
     ]
    },
    {
     "name": "stdout",
     "output_type": "stream",
     "text": [
      "150/150 [==============================] - 24s 160ms/step - loss: 2.6555 - accuracy: 0.3270 - val_loss: 552.3932 - val_accuracy: 0.0947\n"
     ]
    }
   ],
   "source": [
    "import tensorflow as tf\n",
    "from tensorflow import keras\n",
    "from tensorflow.keras import layers, models\n",
    "from tensorflow.keras.preprocessing import image_dataset_from_directory\n",
    "from tensorflow.keras.applications import EfficientNetB0\n",
    "\n",
    "\n",
    "with tf.device('/device:GPU:0'):\n",
    "    print(\"Num GPUs Available: \", len(tf.config.list_physical_devices('GPU')))\n",
    "\n",
    "data_dir = 'simple_images'\n",
    "\n",
    "batch_size = 32\n",
    "\n",
    "# Apply transformations to augment the dataset and convert it to a tensor\n",
    "data_augmentation = keras.Sequential(\n",
    "    [\n",
    "        layers.experimental.preprocessing.RandomFlip(\"horizontal\"),\n",
    "        layers.experimental.preprocessing.RandomRotation(0.1),\n",
    "        layers.experimental.preprocessing.RandomZoom(0.1),\n",
    "        layers.experimental.preprocessing.Rescaling(1./255),\n",
    "    ]\n",
    ")\n",
    "\n",
    "# Load the dataset\n",
    "dataset = image_dataset_from_directory(\n",
    "    data_dir,\n",
    "    batch_size=batch_size,\n",
    "    image_size=(224, 224),\n",
    "    validation_split=0.2,\n",
    "    subset='training',\n",
    "    seed=123,\n",
    "    label_mode='categorical'\n",
    ")\n",
    "\n",
    "# Split the dataset into training and validation sets\n",
    "val_dataset = image_dataset_from_directory(\n",
    "    data_dir,\n",
    "    batch_size=batch_size,\n",
    "    image_size=(224, 224),\n",
    "    validation_split=0.2,\n",
    "    subset='validation',\n",
    "    seed=123,\n",
    "    label_mode='categorical'\n",
    ")\n",
    "\n",
    "# Create DataLoaders for training and validation\n",
    "train_loader = dataset.map(lambda x, y: (data_augmentation(x), y)).prefetch(buffer_size=tf.data.AUTOTUNE)\n",
    "val_loader = val_dataset.prefetch(buffer_size=tf.data.AUTOTUNE)\n",
    "\n",
    "num_classes = len(dataset.class_names)\n",
    "\n",
    "img_height = 224\n",
    "img_width = 224\n",
    "\n",
    "model = tf.keras.Sequential([\n",
    "    layers.Conv2D(32, (3, 3), activation='relu', input_shape=(img_height, img_width, 3)),\n",
    "    layers.Dropout(0.2),\n",
    "    layers.MaxPooling2D((2, 2)),\n",
    "    layers.Conv2D(64, (3, 3), activation='relu'),\n",
    "    layers.Dropout(0.2),\n",
    "    layers.MaxPooling2D((2, 2)),\n",
    "    layers.Conv2D(128, (3, 3), activation='relu'),\n",
    "    layers.MaxPooling2D((2, 2)),\n",
    "    layers.Conv2D(128, (3, 3), activation='relu'),\n",
    "    layers.MaxPooling2D((2, 2)),\n",
    "    layers.Flatten(),\n",
    "    layers.Dropout(0.5),\n",
    "    layers.Dense(512, activation='relu'),\n",
    "    layers.Dense(num_classes, activation='softmax')\n",
    "])\n",
    "\n",
    "lr_scheduler = keras.optimizers.schedules.ExponentialDecay(\n",
    "    initial_learning_rate=1e-3,\n",
    "    decay_steps=10000,\n",
    "    decay_rate=0.5\n",
    ")\n",
    "\n",
    "model.compile(\n",
    "    optimizer=keras.optimizers.Adam(learning_rate=lr_scheduler),\n",
    "    loss='categorical_crossentropy',\n",
    "    metrics=['accuracy']\n",
    ")\n",
    "\n",
    "# Define the TensorBoard callback\n",
    "log_dir = \"logs/\"\n",
    "tensorboard_callback = tf.keras.callbacks.TensorBoard(log_dir=log_dir, histogram_freq=1, profile_batch=0)\n",
    "\n",
    "#Define early stopping\n",
    "early_stop = tf.keras.callbacks.EarlyStopping(\n",
    "monitor='val_loss',\n",
    "patience=5,\n",
    "restore_best_weights=True\n",
    ")\n",
    "\n",
    "# Fit the model\n",
    "history = model.fit(\n",
    "train_loader,\n",
    "validation_data=val_loader,\n",
    "epochs=30,\n",
    "batch_size=batch_size,\n",
    "callbacks=[tensorboard_callback]\n",
    ")\n"
   ]
  },
  {
   "cell_type": "code",
   "execution_count": 14,
   "metadata": {},
   "outputs": [
    {
     "data": {
      "image/png": "[encoded data removed]",
      "text/plain": [
       "<Figure size 640x480 with 1 Axes>"
      ]
     },
     "metadata": {},
     "output_type": "display_data"
    },
    {
     "data": {
      "image/png": "[encoded data removed]",
      "text/plain": [
       "<Figure size 640x480 with 1 Axes>"
      ]
     },
     "metadata": {},
     "output_type": "display_data"
    }
   ],
   "source": [
    "# Graph the training and validation loss\n",
    "import matplotlib.pyplot as plt\n",
    "plt.plot(history.history['loss'], label='Training loss')\n",
    "plt.plot(history.history['val_loss'], label='Validation loss')\n",
    "plt.legend()\n",
    "plt.show()\n",
    "\n",
    "# Graph the training and validation accuracy\n",
    "plt.plot(history.history['accuracy'], label='Training accuracy')\n",
    "plt.plot(history.history['val_accuracy'], label='Validation accuracy')\n",
    "plt.legend()\n",
    "plt.show()"
   ]
  },
  {
   "cell_type": "code",
   "execution_count": null,
   "metadata": {},
   "outputs": [],
   "source": [
    "import sys\n",
    "from PIL import Image\n",
    "sys.modules['Image'] = Image "
   ]
  },
  {
   "cell_type": "code",
   "execution_count": 12,
   "metadata": {},
   "outputs": [
    {
     "name": "stdout",
     "output_type": "stream",
     "text": [
      "1/1 [==============================] - 0s 15ms/step\n",
      "predictions:  [[0. 0. 0. 0. 0. 0. 0. 0. 0. 0. 0. 0. 0. 0. 0. 0. 0. 0. 0. 0. 0. 0. 0. 0.\n",
      "  0. 0. 0. 0. 0. 0. 0. 0. 0. 0. 0. 0. 0. 0. 0. 0. 0. 0. 0. 0. 0. 0. 0. 0.\n",
      "  0. 0. 0. 0. 0. 0. 0. 0. 0. 0. 0. 0. 0. 0. 1. 0. 0. 0. 0. 0. 0. 0. 0. 0.\n",
      "  0. 0. 0.]]\n",
      "This image most likely belongs to selles-sur-cher with a 0.04 percent confidence.\n"
     ]
    }
   ],
   "source": [
    "from tensorflow import keras\n",
    "import numpy as np\n",
    "img = tf.keras.preprocessing.image.load_img(\n",
    "    'test_images/z1910141107270.jpg', target_size=(224, 224)\n",
    ")\n",
    "img_array = tf.keras.preprocessing.image.img_to_array(img)\n",
    "img_array = tf.expand_dims(img_array, 0) # Create a batch\n",
    "\n",
    "predictions = model.predict(img_array)\n",
    "score = tf.nn.softmax(predictions[0])\n",
    "\n",
    "print(\"predictions: \", predictions)\n",
    "\n",
    "print(\n",
    "    \"This image most likely belongs to {} with a {:.2f} percent confidence.\"\n",
    "    .format(dataset.class_names[np.argmax(score)], np.max(score))\n",
    ")\n"
   ]
  },
  {
   "attachments": {},
   "cell_type": "markdown",
   "metadata": {},
   "source": []
  }
 ],
 "metadata": {
  "kernelspec": {
   "display_name": "base",
   "language": "python",
   "name": "python3"
  },
  "language_info": {
   "codemirror_mode": {
    "name": "ipython",
    "version": 3
   },
   "file_extension": ".py",
   "mimetype": "text/x-python",
   "name": "python",
   "nbconvert_exporter": "python",
   "pygments_lexer": "ipython3",
   "version": "3.10.9"
  },
  "orig_nbformat": 4
 },
 "nbformat": 4,
 "nbformat_minor": 2
}
