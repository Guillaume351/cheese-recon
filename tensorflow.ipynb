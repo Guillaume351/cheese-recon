{
 "cells": [
  {
   "cell_type": "code",
   "execution_count": 1,
   "metadata": {},
   "outputs": [
    {
     "name": "stderr",
     "output_type": "stream",
     "text": [
      "2023-03-27 12:38:10.689660: I tensorflow/core/platform/cpu_feature_guard.cc:182] This TensorFlow binary is optimized to use available CPU instructions in performance-critical operations.\n",
      "To enable the following instructions: AVX2 FMA, in other operations, rebuild TensorFlow with the appropriate compiler flags.\n",
      "2023-03-27 12:38:11.665646: W tensorflow/compiler/tf2tensorrt/utils/py_utils.cc:38] TF-TRT Warning: Could not find TensorRT\n"
     ]
    },
    {
     "name": "stdout",
     "output_type": "stream",
     "text": [
      "Num GPUs Available:  1\n"
     ]
    },
    {
     "name": "stderr",
     "output_type": "stream",
     "text": [
      "2023-03-27 12:38:12.892117: I tensorflow/compiler/xla/stream_executor/cuda/cuda_gpu_executor.cc:982] could not open file to read NUMA node: /sys/bus/pci/devices/0000:0b:00.0/numa_node\n",
      "Your kernel may have been built without NUMA support.\n",
      "2023-03-27 12:38:12.940154: I tensorflow/compiler/xla/stream_executor/cuda/cuda_gpu_executor.cc:982] could not open file to read NUMA node: /sys/bus/pci/devices/0000:0b:00.0/numa_node\n",
      "Your kernel may have been built without NUMA support.\n",
      "2023-03-27 12:38:12.940515: I tensorflow/compiler/xla/stream_executor/cuda/cuda_gpu_executor.cc:982] could not open file to read NUMA node: /sys/bus/pci/devices/0000:0b:00.0/numa_node\n",
      "Your kernel may have been built without NUMA support.\n"
     ]
    }
   ],
   "source": [
    "import tensorflow as tf\n",
    "print(\"Num GPUs Available: \", len(tf.config.list_physical_devices('GPU')))"
   ]
  },
  {
   "cell_type": "code",
   "execution_count": 20,
   "metadata": {},
   "outputs": [
    {
     "name": "stdout",
     "output_type": "stream",
     "text": [
      "Num GPUs Available:  1\n",
      "Found 800 files belonging to 8 classes.\n",
      "Using 640 files for training.\n",
      "Found 800 files belonging to 8 classes.\n",
      "Using 160 files for validation.\n",
      "Epoch 1/10\n"
     ]
    },
    {
     "name": "stderr",
     "output_type": "stream",
     "text": [
      "2023-03-27 12:25:08.771755: I tensorflow/core/common_runtime/executor.cc:1197] [/device:CPU:0] (DEBUG INFO) Executor start aborting (this does not indicate an error and you can ignore this message): INVALID_ARGUMENT: You must feed a value for placeholder tensor 'Placeholder/_4' with dtype int32 and shape [640]\n",
      "\t [[{{node Placeholder/_4}}]]\n",
      "2023-03-27 12:25:08.771987: I tensorflow/core/common_runtime/executor.cc:1197] [/device:CPU:0] (DEBUG INFO) Executor start aborting (this does not indicate an error and you can ignore this message): INVALID_ARGUMENT: You must feed a value for placeholder tensor 'Placeholder/_0' with dtype string and shape [640]\n",
      "\t [[{{node Placeholder/_0}}]]\n"
     ]
    },
    {
     "name": "stdout",
     "output_type": "stream",
     "text": [
      "39/40 [============================>.] - ETA: 0s - loss: 1522.2965 - accuracy: 0.2404"
     ]
    },
    {
     "name": "stderr",
     "output_type": "stream",
     "text": [
      "2023-03-27 12:25:11.693262: I tensorflow/core/common_runtime/executor.cc:1197] [/device:CPU:0] (DEBUG INFO) Executor start aborting (this does not indicate an error and you can ignore this message): INVALID_ARGUMENT: You must feed a value for placeholder tensor 'Placeholder/_0' with dtype string and shape [160]\n",
      "\t [[{{node Placeholder/_0}}]]\n",
      "2023-03-27 12:25:11.693477: I tensorflow/core/common_runtime/executor.cc:1197] [/device:CPU:0] (DEBUG INFO) Executor start aborting (this does not indicate an error and you can ignore this message): INVALID_ARGUMENT: You must feed a value for placeholder tensor 'Placeholder/_4' with dtype int32 and shape [160]\n",
      "\t [[{{node Placeholder/_4}}]]\n"
     ]
    },
    {
     "name": "stdout",
     "output_type": "stream",
     "text": [
      "40/40 [==============================] - 3s 51ms/step - loss: 1484.2874 - accuracy: 0.2453 - val_loss: 2.2868 - val_accuracy: 0.3063\n",
      "Epoch 2/10\n",
      "40/40 [==============================] - 2s 47ms/step - loss: 1.3263 - accuracy: 0.5578 - val_loss: 2.0741 - val_accuracy: 0.3938\n",
      "Epoch 3/10\n",
      "40/40 [==============================] - 2s 48ms/step - loss: 0.8569 - accuracy: 0.7281 - val_loss: 2.8271 - val_accuracy: 0.4187\n",
      "Epoch 4/10\n",
      "40/40 [==============================] - 2s 45ms/step - loss: 0.4854 - accuracy: 0.8547 - val_loss: 2.9051 - val_accuracy: 0.4125\n",
      "Epoch 5/10\n",
      "40/40 [==============================] - 2s 44ms/step - loss: 0.3757 - accuracy: 0.8969 - val_loss: 2.7801 - val_accuracy: 0.4062\n",
      "Epoch 6/10\n",
      "40/40 [==============================] - 2s 44ms/step - loss: 0.5076 - accuracy: 0.8906 - val_loss: 3.3459 - val_accuracy: 0.3438\n",
      "Epoch 7/10\n",
      "40/40 [==============================] - 2s 44ms/step - loss: 0.4628 - accuracy: 0.8906 - val_loss: 3.1088 - val_accuracy: 0.4437\n",
      "Epoch 8/10\n",
      "40/40 [==============================] - 2s 43ms/step - loss: 0.2484 - accuracy: 0.9297 - val_loss: 4.0655 - val_accuracy: 0.4375\n",
      "Epoch 9/10\n",
      "40/40 [==============================] - 2s 44ms/step - loss: 0.1426 - accuracy: 0.9688 - val_loss: 5.3959 - val_accuracy: 0.4125\n",
      "Epoch 10/10\n",
      "40/40 [==============================] - 2s 44ms/step - loss: 0.0786 - accuracy: 0.9766 - val_loss: 5.0828 - val_accuracy: 0.4313\n"
     ]
    }
   ],
   "source": [
    "import os\n",
    "import tensorflow as tf\n",
    "from tensorflow import keras\n",
    "from tensorflow.keras import layers, models\n",
    "from tensorflow.keras.preprocessing import image_dataset_from_directory\n",
    "\n",
    "with tf.device('/device:GPU:0'):\n",
    "    print(\"Num GPUs Available: \", len(tf.config.list_physical_devices('GPU')))\n",
    "\n",
    "data_dir = 'simple_images'\n",
    "\n",
    "# Apply transformations to augment the dataset and convert it to a tensor\n",
    "data_augmentation = keras.Sequential(\n",
    "    [\n",
    "        layers.experimental.preprocessing.Resizing(256, 256),\n",
    "        layers.experimental.preprocessing.RandomCrop(224, 224),\n",
    "        layers.experimental.preprocessing.RandomFlip(\"horizontal\"),\n",
    "        layers.experimental.preprocessing.RandomRotation(0.1),\n",
    "        layers.experimental.preprocessing.Rescaling(1./255),\n",
    "        layers.experimental.preprocessing.RandomContrast(0.1),\n",
    "    ]\n",
    ")\n",
    "\n",
    "# Load the dataset\n",
    "dataset = image_dataset_from_directory(\n",
    "    data_dir,\n",
    "    batch_size=16,\n",
    "    image_size=(224, 224),\n",
    "    validation_split=0.2,\n",
    "    subset='training',\n",
    "    seed=123,\n",
    "    label_mode='categorical'\n",
    ")\n",
    "\n",
    "# Split the dataset into training and validation sets\n",
    "val_dataset = image_dataset_from_directory(\n",
    "    data_dir,\n",
    "    batch_size=16,\n",
    "    image_size=(224, 224),\n",
    "    validation_split=0.2,\n",
    "    subset='validation',\n",
    "    seed=123,\n",
    "    label_mode='categorical'\n",
    ")\n",
    "\n",
    "# Create DataLoaders for training and validation\n",
    "train_loader = dataset.prefetch(buffer_size=tf.data.AUTOTUNE)\n",
    "val_loader = val_dataset.prefetch(buffer_size=tf.data.AUTOTUNE)\n",
    "\n",
    "# Get the number of classes\n",
    "num_classes = len(dataset.class_names)\n",
    "\n",
    "# Define the model architecture\n",
    "model = models.Sequential([\n",
    "    layers.Conv2D(32, (3, 3), padding='same', activation='relu', input_shape=(224, 224, 3)),\n",
    "    layers.MaxPooling2D((2, 2)),\n",
    "    layers.Conv2D(64, (3, 3), padding='same', activation='relu'),\n",
    "    layers.MaxPooling2D((2, 2)),\n",
    "    layers.Flatten(),\n",
    "    layers.Dense(512, activation='relu'),\n",
    "    layers.Dense(num_classes)\n",
    "])\n",
    "\n",
    "# Compile the model\n",
    "model.compile(optimizer='adam',\n",
    "              loss=tf.keras.losses.CategoricalCrossentropy(from_logits=True),\n",
    "              metrics=['accuracy'])\n",
    "\n",
    "# Train the model\n",
    "history = model.fit(train_loader,\n",
    "                    validation_data=val_loader,\n",
    "                    epochs=10)\n"
   ]
  },
  {
   "cell_type": "code",
   "execution_count": 2,
   "metadata": {},
   "outputs": [
    {
     "name": "stderr",
     "output_type": "stream",
     "text": [
      "2023-03-27 12:38:19.787119: I tensorflow/compiler/xla/stream_executor/cuda/cuda_gpu_executor.cc:982] could not open file to read NUMA node: /sys/bus/pci/devices/0000:0b:00.0/numa_node\n",
      "Your kernel may have been built without NUMA support.\n"
     ]
    },
    {
     "name": "stdout",
     "output_type": "stream",
     "text": [
      "Num GPUs Available:  1\n",
      "Found 800 files belonging to 8 classes.\n",
      "Using 640 files for training.\n",
      "Found 800 files belonging to 8 classes.\n"
     ]
    },
    {
     "name": "stderr",
     "output_type": "stream",
     "text": [
      "2023-03-27 12:38:19.787489: I tensorflow/compiler/xla/stream_executor/cuda/cuda_gpu_executor.cc:982] could not open file to read NUMA node: /sys/bus/pci/devices/0000:0b:00.0/numa_node\n",
      "Your kernel may have been built without NUMA support.\n",
      "2023-03-27 12:38:19.787883: I tensorflow/compiler/xla/stream_executor/cuda/cuda_gpu_executor.cc:982] could not open file to read NUMA node: /sys/bus/pci/devices/0000:0b:00.0/numa_node\n",
      "Your kernel may have been built without NUMA support.\n",
      "2023-03-27 12:38:20.978935: I tensorflow/compiler/xla/stream_executor/cuda/cuda_gpu_executor.cc:982] could not open file to read NUMA node: /sys/bus/pci/devices/0000:0b:00.0/numa_node\n",
      "Your kernel may have been built without NUMA support.\n",
      "2023-03-27 12:38:20.979259: I tensorflow/compiler/xla/stream_executor/cuda/cuda_gpu_executor.cc:982] could not open file to read NUMA node: /sys/bus/pci/devices/0000:0b:00.0/numa_node\n",
      "Your kernel may have been built without NUMA support.\n",
      "2023-03-27 12:38:20.979269: I tensorflow/core/common_runtime/gpu/gpu_device.cc:1722] Could not identify NUMA node of platform GPU id 0, defaulting to 0.  Your kernel may not have been built with NUMA support.\n",
      "2023-03-27 12:38:20.979553: I tensorflow/compiler/xla/stream_executor/cuda/cuda_gpu_executor.cc:982] could not open file to read NUMA node: /sys/bus/pci/devices/0000:0b:00.0/numa_node\n",
      "Your kernel may have been built without NUMA support.\n",
      "2023-03-27 12:38:20.979768: I tensorflow/core/common_runtime/gpu/gpu_device.cc:1635] Created device /job:localhost/replica:0/task:0/device:GPU:0 with 21568 MB memory:  -> device: 0, name: NVIDIA GeForce RTX 3090, pci bus id: 0000:0b:00.0, compute capability: 8.6\n"
     ]
    },
    {
     "name": "stdout",
     "output_type": "stream",
     "text": [
      "Using 160 files for validation.\n",
      "Epoch 1/20\n"
     ]
    },
    {
     "name": "stderr",
     "output_type": "stream",
     "text": [
      "2023-03-27 12:38:23.334567: I tensorflow/core/common_runtime/executor.cc:1197] [/device:CPU:0] (DEBUG INFO) Executor start aborting (this does not indicate an error and you can ignore this message): INVALID_ARGUMENT: You must feed a value for placeholder tensor 'Placeholder/_4' with dtype int32 and shape [640]\n",
      "\t [[{{node Placeholder/_4}}]]\n",
      "2023-03-27 12:38:23.334776: I tensorflow/core/common_runtime/executor.cc:1197] [/device:CPU:0] (DEBUG INFO) Executor start aborting (this does not indicate an error and you can ignore this message): INVALID_ARGUMENT: You must feed a value for placeholder tensor 'Placeholder/_4' with dtype int32 and shape [640]\n",
      "\t [[{{node Placeholder/_4}}]]\n",
      "2023-03-27 12:38:25.089439: I tensorflow/compiler/xla/stream_executor/cuda/cuda_dnn.cc:424] Loaded cuDNN version 8800\n",
      "2023-03-27 12:38:26.922762: I tensorflow/compiler/xla/stream_executor/cuda/cuda_blas.cc:637] TensorFloat-32 will be used for the matrix multiplication. This will only be logged once.\n",
      "2023-03-27 12:38:26.932102: I tensorflow/compiler/xla/service/service.cc:169] XLA service 0x7f06231970b0 initialized for platform CUDA (this does not guarantee that XLA will be used). Devices:\n",
      "2023-03-27 12:38:26.932130: I tensorflow/compiler/xla/service/service.cc:177]   StreamExecutor device (0): NVIDIA GeForce RTX 3090, Compute Capability 8.6\n",
      "2023-03-27 12:38:26.936174: I tensorflow/compiler/mlir/tensorflow/utils/dump_mlir_util.cc:269] disabling MLIR crash reproducer, set env var `MLIR_CRASH_REPRODUCER_DIRECTORY` to enable.\n",
      "2023-03-27 12:38:27.082484: I ./tensorflow/compiler/jit/device_compiler.h:180] Compiled cluster using XLA!  This line is logged at most once for the lifetime of the process.\n"
     ]
    },
    {
     "name": "stdout",
     "output_type": "stream",
     "text": [
      "38/40 [===========================>..] - ETA: 0s - loss: 33.1521 - accuracy: 0.3553"
     ]
    },
    {
     "name": "stderr",
     "output_type": "stream",
     "text": [
      "2023-03-27 12:38:28.936646: I tensorflow/core/common_runtime/executor.cc:1197] [/device:CPU:0] (DEBUG INFO) Executor start aborting (this does not indicate an error and you can ignore this message): INVALID_ARGUMENT: You must feed a value for placeholder tensor 'Placeholder/_0' with dtype string and shape [160]\n",
      "\t [[{{node Placeholder/_0}}]]\n",
      "2023-03-27 12:38:28.936852: I tensorflow/core/common_runtime/executor.cc:1197] [/device:CPU:0] (DEBUG INFO) Executor start aborting (this does not indicate an error and you can ignore this message): INVALID_ARGUMENT: You must feed a value for placeholder tensor 'Placeholder/_0' with dtype string and shape [160]\n",
      "\t [[{{node Placeholder/_0}}]]\n"
     ]
    },
    {
     "name": "stdout",
     "output_type": "stream",
     "text": [
      "40/40 [==============================] - 6s 50ms/step - loss: 32.0768 - accuracy: 0.3609 - val_loss: 3.9777 - val_accuracy: 0.6687\n",
      "Epoch 2/20\n",
      "40/40 [==============================] - 2s 49ms/step - loss: 4.1434 - accuracy: 0.6313 - val_loss: 2.1014 - val_accuracy: 0.6187\n",
      "Epoch 3/20\n",
      "40/40 [==============================] - 2s 50ms/step - loss: 2.7107 - accuracy: 0.6625 - val_loss: 2.3507 - val_accuracy: 0.5813\n",
      "Epoch 4/20\n",
      "40/40 [==============================] - 2s 49ms/step - loss: 2.2807 - accuracy: 0.6594 - val_loss: 1.7209 - val_accuracy: 0.5750\n",
      "Epoch 5/20\n",
      "40/40 [==============================] - 2s 49ms/step - loss: 2.1043 - accuracy: 0.6234 - val_loss: 1.3761 - val_accuracy: 0.5813\n",
      "Epoch 6/20\n",
      "40/40 [==============================] - 2s 49ms/step - loss: 1.8390 - accuracy: 0.6797 - val_loss: 1.4281 - val_accuracy: 0.6313\n",
      "Epoch 7/20\n",
      "40/40 [==============================] - 2s 49ms/step - loss: 1.4939 - accuracy: 0.6750 - val_loss: 1.2574 - val_accuracy: 0.6875\n",
      "Epoch 8/20\n",
      "40/40 [==============================] - 2s 48ms/step - loss: 1.4244 - accuracy: 0.7109 - val_loss: 1.3015 - val_accuracy: 0.6500\n",
      "Epoch 9/20\n",
      "40/40 [==============================] - 2s 49ms/step - loss: 1.0819 - accuracy: 0.7094 - val_loss: 1.4480 - val_accuracy: 0.6125\n",
      "Epoch 10/20\n",
      "40/40 [==============================] - 2s 49ms/step - loss: 0.8545 - accuracy: 0.7359 - val_loss: 1.8145 - val_accuracy: 0.6187\n",
      "Epoch 11/20\n",
      "40/40 [==============================] - 2s 50ms/step - loss: 1.1286 - accuracy: 0.7125 - val_loss: 1.6472 - val_accuracy: 0.6062\n",
      "Epoch 12/20\n",
      "40/40 [==============================] - 2s 50ms/step - loss: 1.4498 - accuracy: 0.7156 - val_loss: 1.6725 - val_accuracy: 0.6062\n",
      "Epoch 13/20\n",
      "40/40 [==============================] - 2s 49ms/step - loss: 1.0943 - accuracy: 0.6969 - val_loss: 1.9992 - val_accuracy: 0.6187\n",
      "Epoch 14/20\n",
      "40/40 [==============================] - 2s 49ms/step - loss: 1.2386 - accuracy: 0.6859 - val_loss: 1.6887 - val_accuracy: 0.6000\n",
      "Epoch 15/20\n",
      "40/40 [==============================] - 2s 49ms/step - loss: 1.1159 - accuracy: 0.7125 - val_loss: 1.5730 - val_accuracy: 0.6250\n",
      "Epoch 16/20\n",
      "40/40 [==============================] - 2s 49ms/step - loss: 1.1640 - accuracy: 0.7031 - val_loss: 1.3949 - val_accuracy: 0.6250\n",
      "Epoch 17/20\n",
      "40/40 [==============================] - 2s 48ms/step - loss: 1.1735 - accuracy: 0.6953 - val_loss: 1.1583 - val_accuracy: 0.6313\n",
      "Epoch 18/20\n",
      "40/40 [==============================] - 2s 50ms/step - loss: 1.0308 - accuracy: 0.7094 - val_loss: 1.1939 - val_accuracy: 0.6500\n",
      "Epoch 19/20\n",
      "40/40 [==============================] - 2s 48ms/step - loss: 0.9151 - accuracy: 0.7156 - val_loss: 1.2878 - val_accuracy: 0.6250\n",
      "Epoch 20/20\n",
      "40/40 [==============================] - 2s 49ms/step - loss: 0.9451 - accuracy: 0.6984 - val_loss: 1.5052 - val_accuracy: 0.6438\n"
     ]
    }
   ],
   "source": [
    "import os\n",
    "import tensorflow as tf\n",
    "from tensorflow import keras\n",
    "from tensorflow.keras import layers, models\n",
    "from tensorflow.keras.preprocessing import image_dataset_from_directory\n",
    "from tensorflow.keras.applications import VGG16\n",
    "\n",
    "\n",
    "with tf.device('/device:GPU:0'):\n",
    "    print(\"Num GPUs Available: \", len(tf.config.list_physical_devices('GPU')))\n",
    "\n",
    "data_dir = 'simple_images'\n",
    "\n",
    "# Apply transformations to augment the dataset and convert it to a tensor\n",
    "data_augmentation = keras.Sequential(\n",
    "    [\n",
    "        layers.experimental.preprocessing.Resizing(256, 256),\n",
    "        layers.experimental.preprocessing.RandomCrop(224, 224),\n",
    "        layers.experimental.preprocessing.RandomFlip(\"horizontal\"),\n",
    "        layers.experimental.preprocessing.RandomRotation(0.1),\n",
    "        layers.experimental.preprocessing.Rescaling(1./255),\n",
    "        layers.experimental.preprocessing.RandomContrast(0.1),\n",
    "    ]\n",
    ")\n",
    "\n",
    "# Load the dataset\n",
    "dataset = image_dataset_from_directory(\n",
    "    data_dir,\n",
    "    batch_size=16,\n",
    "    image_size=(224, 224),\n",
    "    validation_split=0.2,\n",
    "    subset='training',\n",
    "    seed=123,\n",
    "    label_mode='categorical'\n",
    ")\n",
    "\n",
    "# Split the dataset into training and validation sets\n",
    "val_dataset = image_dataset_from_directory(\n",
    "    data_dir,\n",
    "    batch_size=16,\n",
    "    image_size=(224, 224),\n",
    "    validation_split=0.2,\n",
    "    subset='validation',\n",
    "    seed=123,\n",
    "    label_mode='categorical'\n",
    ")\n",
    "\n",
    "# Create DataLoaders for training and validation\n",
    "train_loader = dataset.prefetch(buffer_size=tf.data.AUTOTUNE)\n",
    "val_loader = val_dataset.prefetch(buffer_size=tf.data.AUTOTUNE)\n",
    "\n",
    "# Get the number of classes\n",
    "num_classes = len(dataset.class_names)\n",
    "\n",
    "\n",
    "\n",
    "\n",
    "pretrained_model = VGG16(weights='imagenet', include_top=False, input_shape=(224, 224, 3))\n",
    "for layer in pretrained_model.layers:\n",
    "    layer.trainable = False\n",
    "\n",
    "\n",
    "model = models.Sequential([\n",
    "    pretrained_model,\n",
    "    layers.Flatten(),\n",
    "    layers.Dense(256, activation='relu'),\n",
    "    layers.Dropout(0.6),\n",
    "    layers.Dense(num_classes, activation='softmax')\n",
    "])\n",
    "\n",
    "\n",
    "model.compile(optimizer='adam', loss='categorical_crossentropy', metrics=['accuracy'])\n",
    "history = model.fit(train_loader, validation_data=val_loader, epochs=20)\n",
    "\n"
   ]
  },
  {
   "cell_type": "code",
   "execution_count": 3,
   "metadata": {},
   "outputs": [
    {
     "data": {
      "image/png": "[encoded data removed]",
      "text/plain": [
       "<Figure size 640x480 with 1 Axes>"
      ]
     },
     "metadata": {},
     "output_type": "display_data"
    }
   ],
   "source": [
    "# Graph the training and validation loss\n",
    "import matplotlib.pyplot as plt\n",
    "plt.plot(history.history['loss'], label='Training loss')\n",
    "plt.plot(history.history['val_loss'], label='Validation loss')\n",
    "plt.legend()\n",
    "plt.show()"
   ]
  },
  {
   "cell_type": "code",
   "execution_count": 4,
   "metadata": {},
   "outputs": [],
   "source": [
    "import sys\n",
    "from PIL import Image\n",
    "sys.modules['Image'] = Image "
   ]
  },
  {
   "cell_type": "code",
   "execution_count": 11,
   "metadata": {},
   "outputs": [
    {
     "name": "stdout",
     "output_type": "stream",
     "text": [
      "1/1 [==============================] - 0s 17ms/step\n",
      "This image most likely belongs to camembert with a 27.97 percent confidence.\n"
     ]
    }
   ],
   "source": [
    "from tensorflow import keras\n",
    "import numpy as np\n",
    "img = tf.keras.preprocessing.image.load_img(\n",
    "    'simple_images/camembert/camembert_1.jpeg', target_size=(224, 224)\n",
    ")\n",
    "img_array = tf.keras.preprocessing.image.img_to_array(img)\n",
    "img_array = tf.expand_dims(img_array, 0) # Create a batch\n",
    "\n",
    "predictions = model.predict(img_array)\n",
    "score = tf.nn.softmax(predictions[0])\n",
    "\n",
    "print(\"predictions: \", predictions)\n",
    "\n",
    "print(\n",
    "    \"This image most likely belongs to {} with a {:.2f} percent confidence.\"\n",
    "    .format(dataset.class_names[np.argmax(score)], 100 * np.max(score))\n",
    ")\n"
   ]
  },
  {
   "attachments": {},
   "cell_type": "markdown",
   "metadata": {},
   "source": []
  }
 ],
 "metadata": {
  "kernelspec": {
   "display_name": "base",
   "language": "python",
   "name": "python3"
  },
  "language_info": {
   "codemirror_mode": {
    "name": "ipython",
    "version": 3
   },
   "file_extension": ".py",
   "mimetype": "text/x-python",
   "name": "python",
   "nbconvert_exporter": "python",
   "pygments_lexer": "ipython3",
   "version": "3.10.9"
  },
  "orig_nbformat": 4
 },
 "nbformat": 4,
 "nbformat_minor": 2
}
